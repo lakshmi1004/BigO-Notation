{
  "cells": [
    {
      "cell_type": "markdown",
      "metadata": {
        "id": "i_xLFYD8a_h3"
      },
      "source": [
        "# Movie Recommendation - Milestone 5\n"
      ]
    },
    {
      "cell_type": "markdown",
      "metadata": {
        "id": "2V9CmBP9YyLT"
      },
      "source": [
        "<details>\n",
        "  <summary>Click in any of these links to compare your solution with ours up to this point</summary>\n",
        "  <p>\n",
        "    <a href=\"https://colab.research.google.com/github/AI-Core/movie-recommendation-solutions/blob/main/solution_m1.ipynb\" target=\"_parent\">Solution for milestone 1</a>\n",
        "  </p>\n",
        "  <p>\n",
        "    <a href=\"https://colab.research.google.com/github/AI-Core/movie-recommendation-solutions/blob/main/solution_m2.ipynb\" target=\"_parent\">Solution for milestone 2</a>\n",
        "  </p>\n",
        "    <p>\n",
        "        <a href=\"https://colab.research.google.com/github/AI-Core/movie-recommendation-solutions/blob/main/solution_m3.ipynb\" target=\"_parent\">Solution for milestone 3</a>\n",
        "    </p>\n",
        "    <p>\n",
        "        <a href=\"https://colab.research.google.com/github/AI-Core/movie-recommendation-solutions/blob/main/solution_m4.ipynb\" target=\"_parent\">Solution for milestone 4</a>\n",
        "    </p>\n",
        "</details>"
      ]
    },
    {
      "cell_type": "code",
      "execution_count": 2,
      "metadata": {
        "id": "VJOaFMKuYyLT",
        "outputId": "d3fb87bc-8e03-4d18-ab50-3e991fe7e874",
        "colab": {
          "base_uri": "https://localhost:8080/"
        }
      },
      "outputs": [
        {
          "output_type": "stream",
          "name": "stdout",
          "text": [
            "  Preparing metadata (setup.py) ... \u001b[?25l\u001b[?25hdone\n",
            "  Preparing metadata (setup.py) ... \u001b[?25l\u001b[?25hdone\n",
            "  Building wheel for movie-rec-marking-aicore (setup.py) ... \u001b[?25l\u001b[?25hdone\n",
            "  Building wheel for timeout-decorator (setup.py) ... \u001b[?25l\u001b[?25hdone\n"
          ]
        }
      ],
      "source": [
        "#@title # Run the following cell to add the `movies` variable to your workspace. { display-mode: \"form\" }\n",
        "#@markdown Don’t worry about what’s in this collapsed cell, you’re not expected to understand the code inside\n",
        "\n",
        "!pip install movie-rec-marking-aicore --upgrade --quiet\n",
        "!wget https://aicore-files.s3.amazonaws.com/Movie-Recommendation/movies.json --quiet\n",
        "from movie_rec_marking import test_milestone_5\n",
        "import json\n",
        "with open('movies.json', 'r') as f:\n",
        "    movies = json.load(f)"
      ]
    },
    {
      "cell_type": "code",
      "execution_count": 3,
      "metadata": {
        "id": "O1fLdFQFYyLV"
      },
      "outputs": [],
      "source": [
        "# Run this cell to define the `get_unique_genres` and `get_user_genre_choice` functions.\n",
        "def get_unique_genres():\n",
        "    genres = []\n",
        "    for movie in movies:\n",
        "        genres.append(movie[\"genre\"])\n",
        "    genres = set(genres)\n",
        "    return genres\n",
        "\n",
        "def get_user_genre_choice():\n",
        "    print(\"Select a genre from the following set:\")\n",
        "    print(get_unique_genres())\n",
        "    genre_choice = input(\"Type a genre then hit enter...\\n\")\n",
        "    return genre_choice"
      ]
    },
    {
      "cell_type": "markdown",
      "metadata": {
        "id": "MYQw48Lqa3Q4"
      },
      "source": [
        "# Task 1\n",
        "### Validate the user's genre choice\n",
        "\n",
        "Redefine the `get_user_genre_choice` function to validate the input and make sure that it's actually one of the genres from the dataset.\n",
        "\n",
        "If the value is not valid, then raise an error."
      ]
    },
    {
      "cell_type": "code",
      "execution_count": 13,
      "metadata": {
        "id": "1UpT9BAym0iW",
        "outputId": "dfdc9f0e-d69b-4d18-daeb-8e9ffa4a07b4",
        "colab": {
          "base_uri": "https://localhost:8080/",
          "height": 105
        }
      },
      "outputs": [
        {
          "name": "stdout",
          "output_type": "stream",
          "text": [
            "Select a genre from the following set:\n",
            "{'Crime', 'Adventure', 'Horror', 'Biography', 'Mystery', 'Drama', 'Film-Noir', 'Comedy', 'Western', 'Action', 'Animation'}\n",
            "Type a genre then hit enter...\n",
            "Horror\n"
          ]
        },
        {
          "output_type": "execute_result",
          "data": {
            "text/plain": [
              "'Horror'"
            ],
            "application/vnd.google.colaboratory.intrinsic+json": {
              "type": "string"
            }
          },
          "metadata": {},
          "execution_count": 13
        }
      ],
      "source": [
        "## Write your code here\n",
        "def get_unique_genres():\n",
        "    genres = []\n",
        "    for movie in movies:\n",
        "        genres.append(movie[\"genre\"])\n",
        "    genres = set(genres)\n",
        "    return genres\n",
        "\n",
        "def get_user_genre_choice():\n",
        "  unique_genre = get_unique_genres()\n",
        "  print(\"Select a genre from the following set:\")\n",
        "  print(unique_genre)\n",
        "  genre_choice = input(\"Type a genre then hit enter...\\n\")\n",
        "  if genre_choice not in unique_genre:\n",
        "    raise ValueError(\"Invalid genre choice. Please choose from the available genres.\")\n",
        "  return genre_choice\n",
        "get_user_genre_choice()"
      ]
    },
    {
      "cell_type": "code",
      "execution_count": 5,
      "metadata": {
        "id": "hBx-5zPTYyLW",
        "outputId": "fd005a74-6876-433f-fbad-e3066f935070",
        "colab": {
          "base_uri": "https://localhost:8080/"
        }
      },
      "outputs": [
        {
          "output_type": "stream",
          "name": "stdout",
          "text": [
            "Great! The \"get_user_genre_choice\" function raises an error when you use a genre that is not in the dataset\n",
            "You can continue to the next task\n"
          ]
        }
      ],
      "source": [
        "#@title Run this cell to check your solution { display-mode: \"form\", run: \"auto\" }\n",
        "\n",
        "assert 'get_user_genre_choice' in globals(), \"You need to define a function called get_user_genre_choice\"\n",
        "task_1 = test_milestone_5.check_first_get_user_genre_choice(get_user_genre_choice)"
      ]
    },
    {
      "cell_type": "markdown",
      "metadata": {
        "id": "xT_BwqBhYyLW"
      },
      "source": [
        "# Task 2\n",
        "\n",
        "### Raise a specific type of error\n",
        "\n",
        "Specifically, raise a `ValueError` with a useful error message \"This is not a valid genre\"."
      ]
    },
    {
      "cell_type": "code",
      "source": [],
      "metadata": {
        "id": "T4RpnEQxstYq"
      },
      "execution_count": null,
      "outputs": []
    },
    {
      "cell_type": "code",
      "execution_count": 8,
      "metadata": {
        "id": "bumZSeViYyLW",
        "outputId": "ab195f54-c456-4c33-f996-f48553020a8f",
        "colab": {
          "base_uri": "https://localhost:8080/",
          "height": 105
        }
      },
      "outputs": [
        {
          "name": "stdout",
          "output_type": "stream",
          "text": [
            "Select a genre from the following set:\n",
            "{'Crime', 'Adventure', 'Horror', 'Biography', 'Mystery', 'Drama', 'Film-Noir', 'Comedy', 'Western', 'Action', 'Animation'}\n",
            "Type a genre then hit enter...\n",
            "Drama\n"
          ]
        },
        {
          "output_type": "execute_result",
          "data": {
            "text/plain": [
              "'Drama'"
            ],
            "application/vnd.google.colaboratory.intrinsic+json": {
              "type": "string"
            }
          },
          "metadata": {},
          "execution_count": 8
        }
      ],
      "source": [
        "## Write your code here\n",
        "## Write your code here\n",
        "def get_user_genre_choice():\n",
        "  unique_genre = get_unique_genres()\n",
        "  print(\"Select a genre from the following set:\")\n",
        "  print(unique_genre)\n",
        "  genre_choice = input(\"Type a genre then hit enter...\\n\")\n",
        "  if genre_choice not in unique_genre:\n",
        "    raise ValueError(\"Invalid genre choice. Please choose from the available genres.\")\n",
        "  return genre_choice\n",
        "get_user_genre_choice()"
      ]
    },
    {
      "cell_type": "code",
      "execution_count": 7,
      "metadata": {
        "id": "TVYLIuKWYyLX",
        "outputId": "3e48f4a7-e473-4b84-ad13-099cc4808488",
        "colab": {
          "base_uri": "https://localhost:8080/"
        }
      },
      "outputs": [
        {
          "output_type": "stream",
          "name": "stdout",
          "text": [
            "Great! The \"get_user_genre_choice\" function raises a ValueError exception when you use a genre that is not in the dataset\n",
            "You can continue to the next task\n"
          ]
        }
      ],
      "source": [
        "#@title Run this cell to check your solution { display-mode: \"form\", run: \"auto\" }\n",
        "\n",
        "assert 'get_user_genre_choice' in globals(), \"You need to define a function called get_user_genre_choice\"\n",
        "task_2 = test_milestone_5.check_second_get_user_genre_choice(get_user_genre_choice, task_1)"
      ]
    },
    {
      "cell_type": "markdown",
      "metadata": {
        "id": "oaEiun94YyLX"
      },
      "source": [
        "# Task 3\n",
        "\n",
        "### Handle the error\n",
        "\n",
        "If the genre selected is not valid, and your code successfully raises an error when that is the case, handle the error so that instead of your code failing and stopping, it asks the user to try again.\n",
        "\n",
        "\n",
        "HINT: You may want to use an infinite `while` loop, and break out of it only if the error is not raised.\n",
        "\n",
        "\n",
        "The code should handle only the specific type of error that is raised if the genre is not valid."
      ]
    },
    {
      "cell_type": "code",
      "execution_count": 18,
      "metadata": {
        "id": "_hf3wW7wYyLX",
        "outputId": "94b579cf-e81b-41c9-ad59-8c1ef88031fe",
        "colab": {
          "base_uri": "https://localhost:8080/",
          "height": 105
        }
      },
      "outputs": [
        {
          "name": "stdout",
          "output_type": "stream",
          "text": [
            "Select a genre from the following set:\n",
            "{'Crime', 'Adventure', 'Horror', 'Biography', 'Mystery', 'Drama', 'Film-Noir', 'Comedy', 'Western', 'Action', 'Animation'}\n",
            "Type a genre then hit enter...\n",
            "Crime\n"
          ]
        },
        {
          "output_type": "execute_result",
          "data": {
            "text/plain": [
              "'Crime'"
            ],
            "application/vnd.google.colaboratory.intrinsic+json": {
              "type": "string"
            }
          },
          "metadata": {},
          "execution_count": 18
        }
      ],
      "source": [
        "## Write your code\n",
        "def get_user_genre_choice():\n",
        "  unique_genre = get_unique_genres()\n",
        "  print(\"Select a genre from the following set:\")\n",
        "  print(unique_genre)\n",
        "  while True:\n",
        "    genre_choice = input(\"Type a genre then hit enter...\\n\")\n",
        "    if genre_choice in unique_genre:\n",
        "        return genre_choice\n",
        "    else:\n",
        "      print(\"Invalid genre choice. Please try again and choose from the available genres.\")\n",
        "\n",
        "get_user_genre_choice()\n"
      ]
    },
    {
      "cell_type": "code",
      "execution_count": 19,
      "metadata": {
        "id": "T0w-WbCTYyLX",
        "outputId": "0883f01d-f103-4aca-e521-78eda6c178e2",
        "colab": {
          "base_uri": "https://localhost:8080/"
        }
      },
      "outputs": [
        {
          "output_type": "stream",
          "name": "stdout",
          "text": [
            "Great! The \"get_user_genre_choice\" function works correctly\n",
            "Congratulations! You completed the project!\n"
          ]
        }
      ],
      "source": [
        "#@title Run this cell to check your solution { display-mode: \"form\", run: \"auto\" }\n",
        "\n",
        "assert 'get_user_genre_choice' in globals(), \"You need to define a function called get_user_genre_choice\"\n",
        "task_3 = test_milestone_5.check_third_get_user_genre_choice(get_user_genre_choice, task_2)"
      ]
    }
  ],
  "metadata": {
    "colab": {
      "provenance": []
    },
    "kernelspec": {
      "display_name": "Python 3.9.5 ('base')",
      "language": "python",
      "name": "python3"
    },
    "language_info": {
      "codemirror_mode": {
        "name": "ipython",
        "version": 3
      },
      "file_extension": ".py",
      "mimetype": "text/x-python",
      "name": "python",
      "nbconvert_exporter": "python",
      "pygments_lexer": "ipython3",
      "version": "3.9.5 (default, Jun  4 2021, 12:28:51) \n[GCC 7.5.0]"
    },
    "orig_nbformat": 4,
    "vscode": {
      "interpreter": {
        "hash": "ce99af5845ff7f417c6fe57e3883abe41597db90e3f493c4f9da5159bbc46102"
      }
    }
  },
  "nbformat": 4,
  "nbformat_minor": 0
}