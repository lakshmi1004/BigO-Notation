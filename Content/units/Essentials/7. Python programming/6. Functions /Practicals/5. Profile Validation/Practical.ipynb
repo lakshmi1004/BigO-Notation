{
  "cells": [
    {
      "cell_type": "markdown",
      "id": "32453c8e",
      "metadata": {
        "id": "32453c8e"
      },
      "source": [
        "# Profile Validation"
      ]
    },
    {
      "cell_type": "code",
      "execution_count": 9,
      "id": "405bb185",
      "metadata": {
        "id": "405bb185",
        "outputId": "fb73eb80-5033-4191-d8e4-af3b62cdf674",
        "colab": {
          "base_uri": "https://localhost:8080/"
        }
      },
      "outputs": [
        {
          "output_type": "stream",
          "name": "stdout",
          "text": [
            "Downloading the marking system\n"
          ]
        }
      ],
      "source": [
        "#@title ### Run the following cell to download the necessary files for this practical { display-mode: \"form\" }\n",
        "#@markdown Don't worry about what's in this collapsed cell\n",
        "\n",
        "print('Downloading the marking system')\n",
        "!wget https://s3-eu-west-1.amazonaws.com/aicore-portal-public-prod-307050600709/practical_files/bb24e593-3ffb-4c13-a795-cc4cb79ec4db/marking_system.py -q -O marking_system.py\n",
        "import marking_system\n",
        "import importlib\n",
        "importlib.reload(marking_system)\n",
        "import sys\n",
        "ipython = get_ipython()\n",
        "def hide_traceback(exc_tuple=None, filename=None, tb_offset=None, exception_only=False, running_compiled_code=False):\n",
        "    etype, value, tb = sys.exc_info()\n",
        "    value.__cause__ = None  # suppress chained exceptions\n",
        "    return ipython._showtraceback(etype, \"❌ \" + f\"\u001b[91m{value}\", ipython.InteractiveTB.get_exception_only(etype, \"❌ \" + f\"\u001b[91m{value}\"))\n",
        "ipython.showtraceback = hide_traceback\n"
      ]
    },
    {
      "cell_type": "markdown",
      "id": "e93b3c58",
      "metadata": {
        "id": "e93b3c58"
      },
      "source": [
        "#### 1. Create a function which takes in the `name`, `age`, and `email` of a user trying to create a new profile on our application\n",
        "\n",
        "Name the function `validate_profile`. In this first step, you can just have the function print out the values it receives.\n",
        "\n",
        "So, if it's passed the following values:\n",
        "\n",
        "```python\n",
        "validate_profile(\"John\", 34, \"john@hotmail.com\")\n",
        "```\n",
        "\n",
        "It should print out:\n",
        "\n",
        "```\n",
        "John\n",
        "34\n",
        "john@hotmail.com\n",
        "```"
      ]
    },
    {
      "cell_type": "code",
      "execution_count": 10,
      "id": "c4bcbe3f",
      "metadata": {
        "id": "c4bcbe3f"
      },
      "outputs": [],
      "source": [
        "# TODO - Create a function called validate_profile that takes in 3 parameters: name, age, email\n",
        "    # TODO - Print the name parameter\n",
        "    # TODO - Print the age parameter\n",
        "    # TODO - Print the email parameter\n",
        "def validate_profile(name, age, email):\n",
        "  print(name)\n",
        "  print(age)\n",
        "  print(email)\n",
        ""
      ]
    },
    {
      "cell_type": "code",
      "execution_count": 11,
      "id": "8b2f29c8",
      "metadata": {
        "id": "8b2f29c8",
        "outputId": "3f62b0b5-b78f-4857-ca52-193b89e08a08",
        "colab": {
          "base_uri": "https://localhost:8080/"
        }
      },
      "outputs": [
        {
          "output_type": "stream",
          "name": "stdout",
          "text": [
            "\u001b[92m✔ Well done! You have defined the validate_profile function correctly\n"
          ]
        }
      ],
      "source": [
        "#@title Run this cell to check your code { display-mode: \"form\" }\n",
        "\n",
        "assert \"validate_profile\" in globals(), \"You haven't defined a function called 'validate_profile'. Please, try again.\"\n",
        "assert callable(validate_profile), \"'validate_profile' should be a function. Please, try again.\"\n",
        "\n",
        "marking_system.check_step_1(validate_profile)\n"
      ]
    },
    {
      "cell_type": "markdown",
      "id": "6a3de084",
      "metadata": {
        "id": "6a3de084"
      },
      "source": [
        "#### 2. Check the name does not contain any of the following characters `!@£$%^&*()`\n",
        "\n",
        "If it does, __return__ the message `Invalid name`. You can remove the print statements from the previous step"
      ]
    },
    {
      "cell_type": "code",
      "execution_count": 12,
      "id": "2eff1a01",
      "metadata": {
        "id": "2eff1a01",
        "outputId": "718850f6-b4d9-4141-b95c-967ecd55dbe2",
        "colab": {
          "base_uri": "https://localhost:8080/",
          "height": 36
        }
      },
      "outputs": [
        {
          "output_type": "execute_result",
          "data": {
            "text/plain": [
              "'Invalid name'"
            ],
            "application/vnd.google.colaboratory.intrinsic+json": {
              "type": "string"
            }
          },
          "metadata": {},
          "execution_count": 12
        }
      ],
      "source": [
        "# TODO - Add an if statement to check if name contains any of the characters in '!@£$%^&*()'. If it does return \"Invalid name\"\n",
        "def validate_profile(name, age, email):\n",
        "  sp_char = '!@£$%^&*()'\n",
        "  if any(c in sp_char for c in name):\n",
        "    return 'Invalid name'\n",
        "  else : print(name)\n",
        "\n",
        "  print(age)\n",
        "\n",
        "  print(email)\n",
        "\n",
        "validate_profile('r!ji',10,'ramya@gmail.com')\n"
      ]
    },
    {
      "cell_type": "code",
      "execution_count": 13,
      "id": "d83477e5",
      "metadata": {
        "id": "d83477e5",
        "outputId": "7c9887dc-49be-4ecb-f1a8-3208b4a67edb",
        "colab": {
          "base_uri": "https://localhost:8080/"
        }
      },
      "outputs": [
        {
          "output_type": "stream",
          "name": "stdout",
          "text": [
            "John\n",
            "20\n",
            "john@hotmail.com\n",
            "\u001b[92m✔ Well done! Your function now checks if the name is valid\n"
          ]
        }
      ],
      "source": [
        "#@title Run this cell to check your code { display-mode: \"form\" }\n",
        "\n",
        "assert \"validate_profile\" in globals(), \"You haven't defined a function called 'validate_profile'. Please, try again.\"\n",
        "assert callable(validate_profile), \"'validate_profile' should be a function. Please, try again.\"\n",
        "assert validate_profile.__code__.co_argcount == 3, \\\n",
        "    \"'validate_profile' should take 3 arguments. Please, try again.\"\n",
        "assert \"name\" in validate_profile.__code__.co_varnames, \\\n",
        "    \"'name' should be a parameter of 'validate_profile'. Please, try again.\"\n",
        "assert \"age\" in validate_profile.__code__.co_varnames, \\\n",
        "    \"'age' should be a parameter of 'validate_profile'. Please, try again.\"\n",
        "assert \"email\" in validate_profile.__code__.co_varnames, \\\n",
        "    \"'email' should be a parameter of 'validate_profile'. Please, try again.\"\n",
        "marking_system.check_step_2(validate_profile)\n"
      ]
    },
    {
      "cell_type": "markdown",
      "id": "f199dfce",
      "metadata": {
        "id": "f199dfce"
      },
      "source": [
        "#### 3. Check the email is valid by making sure it contains `@`\n",
        "\n",
        "If it does not, return the message `Invalid email`. Add the check to the function from the previous step"
      ]
    },
    {
      "cell_type": "code",
      "execution_count": 15,
      "id": "258f2fd0",
      "metadata": {
        "id": "258f2fd0",
        "outputId": "715b6eb1-ceb5-453a-f97d-df7475c45b08",
        "colab": {
          "base_uri": "https://localhost:8080/",
          "height": 53
        }
      },
      "outputs": [
        {
          "output_type": "stream",
          "name": "stdout",
          "text": [
            "raji\n"
          ]
        },
        {
          "output_type": "execute_result",
          "data": {
            "text/plain": [
              "'Invalid email'"
            ],
            "application/vnd.google.colaboratory.intrinsic+json": {
              "type": "string"
            }
          },
          "metadata": {},
          "execution_count": 15
        }
      ],
      "source": [
        "# TODO - Add an if statement to check if the email contains \"@\". If it doesn't return \"Invalid email\"\n",
        "def validate_profile(name, age, email):\n",
        "  sp_char = '!@£$%^&*()'\n",
        "  if any(c in sp_char for c in name):\n",
        "    return 'Invalid name'\n",
        "  else : print(name)\n",
        "\n",
        "  at = '@'\n",
        "  if at not in email:\n",
        "    return 'Invalid email'\n",
        "  else: print(email)\n",
        "\n",
        "  print(age)\n",
        "\n",
        "  print(email)\n",
        "\n",
        "validate_profile('raji',10,'ramyagmail.com')\n"
      ]
    },
    {
      "cell_type": "code",
      "execution_count": 16,
      "id": "e1969e35",
      "metadata": {
        "id": "e1969e35",
        "outputId": "67d99bdb-16f1-411e-9ba9-0ceb923a50d2",
        "colab": {
          "base_uri": "https://localhost:8080/"
        }
      },
      "outputs": [
        {
          "output_type": "stream",
          "name": "stdout",
          "text": [
            "John\n",
            "john@hotmail.com\n",
            "20\n",
            "john@hotmail.com\n",
            "John\n",
            "\u001b[92m✔ Well done! Your function now checks if the email is valid\n"
          ]
        }
      ],
      "source": [
        "#@title Run this cell to check your code { display-mode: \"form\" }\n",
        "\n",
        "assert \"validate_profile\" in globals(), \"You haven't defined a function called 'validate_profile'. Please, try again.\"\n",
        "assert callable(validate_profile), \"'validate_profile' should be a function. Please, try again.\"\n",
        "assert validate_profile.__code__.co_argcount == 3, \\\n",
        "    \"'validate_profile' should take 3 arguments. Please, try again.\"\n",
        "assert \"name\" in validate_profile.__code__.co_varnames, \\\n",
        "    \"'name' should be a parameter of 'validate_profile'. Please, try again.\"\n",
        "assert \"age\" in validate_profile.__code__.co_varnames, \\\n",
        "    \"'age' should be a parameter of 'validate_profile'. Please, try again.\"\n",
        "assert \"email\" in validate_profile.__code__.co_varnames, \\\n",
        "    \"'email' should be a parameter of 'validate_profile'. Please, try again.\"\n",
        "marking_system.check_step_3(validate_profile)\n"
      ]
    },
    {
      "cell_type": "markdown",
      "id": "3af54e35",
      "metadata": {
        "id": "3af54e35"
      },
      "source": [
        "#### 4. Check the `age` > 12\n",
        "\n",
        "If it is not, return the message `Invalid age`. Add the check to the function from the previous step"
      ]
    },
    {
      "cell_type": "code",
      "execution_count": 21,
      "id": "461e54bd",
      "metadata": {
        "id": "461e54bd",
        "outputId": "c02ce307-782c-4fe2-dfd7-7bbc1aeafdb4",
        "colab": {
          "base_uri": "https://localhost:8080/"
        }
      },
      "outputs": [
        {
          "output_type": "stream",
          "name": "stdout",
          "text": [
            "raji\n",
            "ramya@gmail.com\n",
            "20\n"
          ]
        }
      ],
      "source": [
        "# TODO - Add an if statement to check if the age is less than 12. If it is return \"Invalid age\"\n",
        "def validate_profile(name, age, email):\n",
        "  sp_char = '!@£$%^&*()'\n",
        "  if any(c in sp_char for c in name):\n",
        "    return 'Invalid name'\n",
        "  else : print(name)\n",
        "\n",
        "  at = '@'\n",
        "  if at not in email:\n",
        "    return 'Invalid email'\n",
        "  else: print(email)\n",
        "  if age < 12:\n",
        "    return 'Invalid age'\n",
        "  else:print(age)\n",
        "\n",
        "\n",
        "\n",
        "validate_profile('raji',20,'ramya@gmail.com')"
      ]
    },
    {
      "cell_type": "code",
      "execution_count": 22,
      "id": "d844fedd",
      "metadata": {
        "id": "d844fedd",
        "outputId": "db8eeb77-2b84-41df-bbbc-4f6d52ba62ed",
        "colab": {
          "base_uri": "https://localhost:8080/"
        }
      },
      "outputs": [
        {
          "output_type": "stream",
          "name": "stdout",
          "text": [
            "John\n",
            "john@hotmail.com\n",
            "20\n",
            "John\n",
            "john@hotmail.com\n",
            "\u001b[92m✔ Well done! Your function now checks if the age is valid\n"
          ]
        }
      ],
      "source": [
        "#@title Run this cell to check your code { display-mode: \"form\" }\n",
        "\n",
        "assert \"validate_profile\" in globals(), \"You haven't defined a function called 'validate_profile'. Please, try again.\"\n",
        "assert callable(validate_profile), \"'validate_profile' should be a function. Please, try again.\"\n",
        "assert validate_profile.__code__.co_argcount == 3, \\\n",
        "    \"'validate_profile' should take 3 arguments. Please, try again.\"\n",
        "assert \"name\" in validate_profile.__code__.co_varnames, \\\n",
        "    \"'name' should be a parameter of 'validate_profile'. Please, try again.\"\n",
        "assert \"age\" in validate_profile.__code__.co_varnames, \\\n",
        "    \"'age' should be a parameter of 'validate_profile'. Please, try again.\"\n",
        "assert \"email\" in validate_profile.__code__.co_varnames, \\\n",
        "    \"'email' should be a parameter of 'validate_profile'. Please, try again.\"\n",
        "marking_system.check_step_4(validate_profile)\n"
      ]
    },
    {
      "cell_type": "markdown",
      "id": "c7b99a9d",
      "metadata": {
        "id": "c7b99a9d"
      },
      "source": [
        "#### 5. Turn each step above into a different function, so that you have one function, which calls three other functions inside\n",
        "\n",
        "So you will end up with four functions in total:\n",
        "\n",
        "- `check_name`\n",
        "- `check_email`\n",
        "- `check_age`\n",
        "- `validate_profile`\n",
        "\n",
        "`validate_profile` will call the other three functions, and if all of them return `True`, then it will return the message `\"Profile created\"`"
      ]
    },
    {
      "cell_type": "code",
      "execution_count": 24,
      "id": "610dc793",
      "metadata": {
        "id": "610dc793"
      },
      "outputs": [],
      "source": [
        "# TODO - Create a function called 'check_name' that takes in 1 parameter: name\n",
        "def check_name(name):\n",
        "  sp_char = '!@£$%^&*()'\n",
        "  if any(c in sp_char for c in name):\n",
        "    return 'Invalid name'\n",
        "  else : print(name)\n",
        "\n",
        "\n"
      ]
    },
    {
      "cell_type": "code",
      "execution_count": 25,
      "id": "13783b1f",
      "metadata": {
        "id": "13783b1f"
      },
      "outputs": [],
      "source": [
        "# TODO - Create a function called 'check_email' that takes in 1 parameter: email\n",
        "\n",
        "def check_email(email):\n",
        "  at = '@'\n",
        "  if at not in email:\n",
        "    return 'Invalid email'\n",
        "  else: print(email)"
      ]
    },
    {
      "cell_type": "code",
      "execution_count": 26,
      "id": "ca28e500",
      "metadata": {
        "id": "ca28e500"
      },
      "outputs": [],
      "source": [
        "# TODO - Create a function called 'check_age' that takes in 1 parameter: age\n",
        "def check_age(age):\n",
        "\n",
        "  if age < 12:\n",
        "    return 'Invalid age'\n",
        "  else:print(age)"
      ]
    },
    {
      "cell_type": "code",
      "execution_count": 28,
      "id": "4998ecf9",
      "metadata": {
        "id": "4998ecf9",
        "outputId": "0e0156da-2dd7-4ff5-b397-05309ad693b2",
        "colab": {
          "base_uri": "https://localhost:8080/"
        }
      },
      "outputs": [
        {
          "output_type": "stream",
          "name": "stdout",
          "text": [
            "raji\n",
            "20\n",
            "ramya@gmail.com\n"
          ]
        }
      ],
      "source": [
        "# TODO - Create a function called 'validate_profile' that takes in 3 parameters: name, age, email and calls the functions above\n",
        "def validate_profile(name, age, email):\n",
        "  check_name(name)\n",
        "  check_age(age)\n",
        "  check_email(email)\n",
        "\n",
        "validate_profile('raji',20,'ramya@gmail.com')"
      ]
    },
    {
      "cell_type": "code",
      "execution_count": 29,
      "id": "d122e4d8",
      "metadata": {
        "id": "d122e4d8",
        "outputId": "cf11d634-1016-4356-fe0c-467ffef5bb66",
        "colab": {
          "base_uri": "https://localhost:8080/"
        }
      },
      "outputs": [
        {
          "output_type": "stream",
          "name": "stdout",
          "text": [
            "John\n",
            "john@hotmail.com\n",
            "20\n",
            "\u001b[92m✔ Well done! Your function now checks if the name, email, and age are valid\n"
          ]
        }
      ],
      "source": [
        "#@title Run this cell to check your code { display-mode: \"form\" }\n",
        "\n",
        "assert \"check_name\" in globals(), \"You haven't defined a function called 'check_name'. Please, try again.\"\n",
        "assert callable(check_name), \"'check_name' should be a function. Please, try again.\"\n",
        "assert check_name.__code__.co_argcount == 1, \\\n",
        "    \"'check_name' should take 1 argument. Please, try again.\"\n",
        "assert \"name\" in check_name.__code__.co_varnames, \\\n",
        "    \"'name' should be a parameter of 'check_name'. Please, try again.\"\n",
        "\n",
        "assert \"check_email\" in globals(), \"You haven't defined a function called 'check_email'. Please, try again.\"\n",
        "assert callable(check_email), \"'check_email' should be a function. Please, try again.\"\n",
        "assert check_email.__code__.co_argcount == 1, \\\n",
        "    \"'check_email' should take 1 argument. Please, try again.\"\n",
        "assert \"email\" in check_email.__code__.co_varnames, \\\n",
        "    \"'email' should be a parameter of 'check_email'. Please, try again.\"\n",
        "\n",
        "assert \"check_age\" in globals(), \"You haven't defined a function called 'check_age'. Please, try again.\"\n",
        "assert callable(check_age), \"'check_age' should be a function. Please, try again.\"\n",
        "assert check_age.__code__.co_argcount == 1, \\\n",
        "    \"'check_age' should take 1 argument. Please, try again.\"\n",
        "assert \"age\" in check_age.__code__.co_varnames, \\\n",
        "    \"'age' should be a parameter of 'check_age'. Please, try again.\"\n",
        "\n",
        "assert \"validate_profile\" in globals(), \"You haven't defined a function called 'validate_profile'. Please, try again.\"\n",
        "assert callable(validate_profile), \"'validate_profile' should be a function. Please, try again.\"\n",
        "assert validate_profile.__code__.co_argcount == 3, \\\n",
        "    \"'validate_profile' should take 3 arguments. Please, try again.\"\n",
        "assert \"name\" in validate_profile.__code__.co_varnames, \\\n",
        "    \"'name' should be a parameter of 'validate_profile'. Please, try again.\"\n",
        "assert \"age\" in validate_profile.__code__.co_varnames, \\\n",
        "    \"'age' should be a parameter of 'validate_profile'. Please, try again.\"\n",
        "assert \"email\" in validate_profile.__code__.co_varnames, \\\n",
        "    \"'email' should be a parameter of 'validate_profile'. Please, try again.\"\n",
        "\n",
        "marking_system.check_step_5(check_name, check_email, check_age, validate_profile)\n"
      ]
    }
  ],
  "metadata": {
    "kernelspec": {
      "display_name": "content-projects",
      "language": "python",
      "name": "python3"
    },
    "language_info": {
      "codemirror_mode": {
        "name": "ipython",
        "version": 3
      },
      "file_extension": ".py",
      "mimetype": "text/x-python",
      "name": "python",
      "nbconvert_exporter": "python",
      "pygments_lexer": "ipython3",
      "version": "3.10.8"
    },
    "colab": {
      "provenance": []
    }
  },
  "nbformat": 4,
  "nbformat_minor": 5
}