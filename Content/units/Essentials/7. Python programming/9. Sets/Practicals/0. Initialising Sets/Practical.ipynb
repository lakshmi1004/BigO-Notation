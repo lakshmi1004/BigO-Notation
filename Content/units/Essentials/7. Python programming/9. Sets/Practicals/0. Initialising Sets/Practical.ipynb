{
  "cells": [
    {
      "cell_type": "markdown",
      "id": "16010e61",
      "metadata": {
        "id": "16010e61"
      },
      "source": [
        "# Initialising Sets"
      ]
    },
    {
      "cell_type": "code",
      "execution_count": 1,
      "id": "ba2e4d35",
      "metadata": {
        "id": "ba2e4d35",
        "outputId": "d5261604-7060-40a8-d9fa-cc10bd826384",
        "colab": {
          "base_uri": "https://localhost:8080/"
        }
      },
      "outputs": [
        {
          "output_type": "stream",
          "name": "stdout",
          "text": [
            "Downloading the marking system\n"
          ]
        }
      ],
      "source": [
        "#@title ### Run the following cell to download the necessary files for this practical { display-mode: \"form\" }\n",
        "#@markdown Don't worry about what's in this collapsed cell\n",
        "\n",
        "print('Downloading the marking system')\n",
        "!wget https://s3-eu-west-1.amazonaws.com/aicore-portal-public-prod-307050600709/practical_files/894f9242-28f9-46e4-9dbd-7e66df8bf9dd/marking_system.py -q -O marking_system.py\n",
        "import marking_system\n",
        "import importlib\n",
        "importlib.reload(marking_system)\n",
        "import sys\n",
        "ipython = get_ipython()\n",
        "def hide_traceback(exc_tuple=None, filename=None, tb_offset=None, exception_only=False, running_compiled_code=False):\n",
        "    etype, value, tb = sys.exc_info()\n",
        "    value.__cause__ = None  # suppress chained exceptions\n",
        "    return ipython._showtraceback(etype, \"❌ \" + f\"\u001b[91m{value}\", ipython.InteractiveTB.get_exception_only(etype, \"❌ \" + f\"\u001b[91m{value}\"))\n",
        "ipython.showtraceback = hide_traceback\n"
      ]
    },
    {
      "cell_type": "markdown",
      "id": "2977a963",
      "metadata": {
        "id": "2977a963"
      },
      "source": [
        "### 1. Create an empty set without Python's built-in function\n",
        "\n",
        "Assign the empty set to the variable `empty_set_1`. Then, print the type of `empty_set_1` to check that it is a set _(Don't worry, it's not a mistake that the type is `dict`)._\n",
        "\n",
        "_TIP: Without using a built-in function, it won't be possible to create an empty set, but try it out anyway!_"
      ]
    },
    {
      "cell_type": "code",
      "execution_count": 3,
      "id": "76fe141a",
      "metadata": {
        "id": "76fe141a",
        "outputId": "e0d05a6a-b4cd-4796-b828-091444bbe4fb",
        "colab": {
          "base_uri": "https://localhost:8080/"
        }
      },
      "outputs": [
        {
          "output_type": "stream",
          "name": "stdout",
          "text": [
            "<class 'dict'>\n"
          ]
        }
      ],
      "source": [
        "# TODO - Create an empty set without using Python's built-in set() function. Tip: Use curly braces\n",
        "# TODO - Print the type of empty_set_1\n",
        "empty_set_1 = {}\n",
        "print(type(empty_set_1))"
      ]
    },
    {
      "cell_type": "code",
      "execution_count": 4,
      "id": "ab02fd0d",
      "metadata": {
        "id": "ab02fd0d",
        "outputId": "85be1c57-cda8-45ae-f7b9-35dc4ded3097",
        "colab": {
          "base_uri": "https://localhost:8080/"
        }
      },
      "outputs": [
        {
          "output_type": "stream",
          "name": "stdout",
          "text": [
            "\u001b[92m✔ Well done! You have created an empty set without using Python's built-in set() function.\n"
          ]
        }
      ],
      "source": [
        "#@title #### Enter your solution here { display-mode: \"form\", run: \"auto\" }\n",
        "\n",
        "assert \"empty_set_1\" in globals(), \"Please, create an empty set without using Python's built-in set() function.\"\n",
        "\n",
        "#@markdown What is the type of the variable `empty_set_1`?\n",
        "set_1_type = \"dict\" #@param [\"str\", \"int\", \"float\", \"bool\", \"list\", \"set\", \"tuple\", \"dict\", \"\"]\n",
        "\n",
        "marking_system.check_step_1(empty_set_1, set_1_type)\n"
      ]
    },
    {
      "cell_type": "markdown",
      "id": "94bbd621",
      "metadata": {
        "id": "94bbd621"
      },
      "source": [
        "#### 2. Create an empty set with Python's built-in function\n",
        "\n",
        "Assign the empty set to the variable `empty_set_2`. Then, print the type of `empty_set_2` to check that it is a set."
      ]
    },
    {
      "cell_type": "code",
      "execution_count": 5,
      "id": "e8ebf389",
      "metadata": {
        "id": "e8ebf389",
        "outputId": "38d1110a-9a52-4171-bb07-8a612a67e7a2",
        "colab": {
          "base_uri": "https://localhost:8080/"
        }
      },
      "outputs": [
        {
          "output_type": "stream",
          "name": "stdout",
          "text": [
            "set()\n"
          ]
        }
      ],
      "source": [
        "# TODO - Create an empty set using Python's built-in set() function.\n",
        "# TODO - Print the type of empty_set_2\n",
        "empty_set_2 = set()\n",
        "print(empty_set_2)"
      ]
    },
    {
      "cell_type": "code",
      "execution_count": 6,
      "id": "43e9a21c",
      "metadata": {
        "id": "43e9a21c",
        "outputId": "ae4bc2f7-2cd4-462e-de49-fc751e2bc6cf",
        "colab": {
          "base_uri": "https://localhost:8080/"
        }
      },
      "outputs": [
        {
          "output_type": "stream",
          "name": "stdout",
          "text": [
            "\u001b[92m✔ Well done! You have created an empty set using Python's built-in set() function.\n"
          ]
        }
      ],
      "source": [
        "#@title #### Enter your solution here { display-mode: \"form\", run: \"auto\" }\n",
        "\n",
        "assert \"empty_set_2\" in globals(), \"Please, create an empty set using Python's built-in set() function.\"\n",
        "#@markdown What is the type of the variable `empty_set_2`?\n",
        "set_2_type = \"set\" #@param [\"str\", \"int\", \"float\", \"bool\", \"list\", \"set\", \"tuple\", \"dict\", \"\"]\n",
        "\n",
        "marking_system.check_step_2(empty_set_2, set_2_type)\n"
      ]
    }
  ],
  "metadata": {
    "kernelspec": {
      "display_name": "content-projects_new",
      "language": "python",
      "name": "python3"
    },
    "language_info": {
      "codemirror_mode": {
        "name": "ipython",
        "version": 3
      },
      "file_extension": ".py",
      "mimetype": "text/x-python",
      "name": "python",
      "nbconvert_exporter": "python",
      "pygments_lexer": "ipython3",
      "version": "3.10.8"
    },
    "vscode": {
      "interpreter": {
        "hash": "4b961f8166aad6ccb4cf65d0f9c742ef9c6c23ffe83ad932438cd83ed96aebaf"
      }
    },
    "colab": {
      "provenance": []
    }
  },
  "nbformat": 4,
  "nbformat_minor": 5
}