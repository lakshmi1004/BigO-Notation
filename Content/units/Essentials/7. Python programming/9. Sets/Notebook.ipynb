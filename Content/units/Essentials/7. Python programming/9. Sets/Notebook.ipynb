{
  "cells": [
    {
      "cell_type": "markdown",
      "metadata": {
        "id": "-YEpCMNtMDML"
      },
      "source": [
        "# Sets"
      ]
    },
    {
      "cell_type": "markdown",
      "metadata": {
        "id": "ROMnpP_-MDMN"
      },
      "source": [
        "Sets are an essential data structure in programming that allow you to store a collection of unique elements. A set is an unordered collection, which means that the elements are not stored in any particular order. The primary purpose of sets is to group related elements together and perform various operations on them."
      ]
    },
    {
      "cell_type": "markdown",
      "metadata": {
        "id": "YHJcCRlKMDMN"
      },
      "source": [
        "## Motivation\n",
        "\n",
        "Welcome to your journey of learning about sets in programming! Let's explore the key reasons why learning about sets is valuable:\n",
        "- **Uniqueness and Deduplication**: Sets ensure that each element appears only once, making them valuable for tasks such as removing duplicates from a collection or finding unique elements in data. They help you work with distinct and non-repetitive data, which is important for many programming tasks.\n",
        "\n",
        "- **Efficient Membership Testing**: Sets are super fast when it comes to checking if something is part of the group or not, which makes them perfect when you need to quickly find out if something is already in a group or not.\n",
        "\n",
        "- **Mathematical Set Operations**: Sets support various mathematical operations. You can combine sets, compare them, or even take away some things from one set to make a new one."
      ]
    },
    {
      "cell_type": "markdown",
      "metadata": {
        "id": "6vktHZiBMDMO"
      },
      "source": [
        "## Characteristics of Sets\n",
        "\n",
        "Sets have two primary characteristics:\n",
        "- **Unique Elements**: A set does not allow duplicate elements. Each element in a set is unique, meaning that it appears only once. If you attempt to add a duplicate element to a set, it will be ignored.\n",
        "- **Unordered Nature**: The elements in a set are not stored in a specific order. Unlike lists or tuples, where the order of elements is significant, sets are not concerned with the sequence of elements. This characteristic allows sets to be efficient in performing operations like membership checks and eliminating duplicates.\n"
      ]
    },
    {
      "cell_type": "markdown",
      "metadata": {
        "id": "FfKmIPnbMDMO"
      },
      "source": [
        "## Set Notation\n",
        "\n",
        "In Python, you can create sets using curly braces `{}` or the `set()` constructor.\n",
        "\n",
        "Creating a set using the `set()` constructor looks like this:"
      ]
    },
    {
      "cell_type": "code",
      "execution_count": 1,
      "metadata": {
        "id": "ZEoLYLpyMDMO",
        "outputId": "87cea024-f7db-47db-d0a8-7dff3a0057cc",
        "colab": {
          "base_uri": "https://localhost:8080/"
        }
      },
      "outputs": [
        {
          "output_type": "stream",
          "name": "stdout",
          "text": [
            "{1, 2, 3, 4, 6}\n"
          ]
        }
      ],
      "source": [
        "my_set = set([1, 2, 3, 4, 4, 4, 6])\n",
        "print(my_set)"
      ]
    },
    {
      "cell_type": "markdown",
      "metadata": {
        "id": "3EqMc-OXMDMP"
      },
      "source": [
        "Observe that in the above example that number `4` appears only once in the set, as an unique entry.\n",
        "\n",
        "Creating a set using curly braces looks like this:"
      ]
    },
    {
      "cell_type": "code",
      "execution_count": 2,
      "metadata": {
        "id": "4RWC62grMDMP",
        "outputId": "f8c26e37-faec-4d75-f5a9-e73bb3f88799",
        "colab": {
          "base_uri": "https://localhost:8080/"
        }
      },
      "outputs": [
        {
          "output_type": "stream",
          "name": "stdout",
          "text": [
            "{1, 2, 3, 4, 6}\n"
          ]
        }
      ],
      "source": [
        "my_set = {1, 2, 3, 4, 4, 4, 6}\n",
        "print(my_set)"
      ]
    },
    {
      "cell_type": "markdown",
      "metadata": {
        "id": "pxppA_0iMDMP"
      },
      "source": [
        "> It's important to note that using curly braces `{}` without any elements will create an empty dictionary instead of an empty set. To create an empty set, always use the `set()` constructor.\n",
        "\n",
        "> Trying to index the set will result in a `TypeError` as elements don't have a specific order in a set, as mentioned above."
      ]
    },
    {
      "cell_type": "code",
      "execution_count": 3,
      "metadata": {
        "id": "upAFyAQXMDMP",
        "outputId": "eb662d19-ec36-487f-bd25-9e482b823208",
        "colab": {
          "base_uri": "https://localhost:8080/",
          "height": 175
        }
      },
      "outputs": [
        {
          "output_type": "error",
          "ename": "TypeError",
          "evalue": "ignored",
          "traceback": [
            "\u001b[0;31m---------------------------------------------------------------------------\u001b[0m",
            "\u001b[0;31mTypeError\u001b[0m                                 Traceback (most recent call last)",
            "\u001b[0;32m<ipython-input-3-d447519d8314>\u001b[0m in \u001b[0;36m<cell line: 1>\u001b[0;34m()\u001b[0m\n\u001b[0;32m----> 1\u001b[0;31m \u001b[0mmy_set\u001b[0m\u001b[0;34m[\u001b[0m\u001b[0;36m1\u001b[0m\u001b[0;34m]\u001b[0m\u001b[0;34m\u001b[0m\u001b[0;34m\u001b[0m\u001b[0m\n\u001b[0m",
            "\u001b[0;31mTypeError\u001b[0m: 'set' object is not subscriptable"
          ]
        }
      ],
      "source": [
        "my_set[1]"
      ]
    },
    {
      "cell_type": "markdown",
      "metadata": {
        "id": "PoQPgr-RMDMP"
      },
      "source": [
        "## Basic Operations on Sets"
      ]
    },
    {
      "cell_type": "markdown",
      "metadata": {
        "id": "JYbwYi5yMDMP"
      },
      "source": [
        "### Adding Elements to a Set\n",
        "\n",
        "To add a single element to a set, use the `add()` method. For example:"
      ]
    },
    {
      "cell_type": "code",
      "execution_count": 5,
      "metadata": {
        "id": "ZvBlgii8MDMP",
        "outputId": "6a300bdd-c40f-4c46-9a99-a1071ae682fa",
        "colab": {
          "base_uri": "https://localhost:8080/"
        }
      },
      "outputs": [
        {
          "output_type": "stream",
          "name": "stdout",
          "text": [
            "{'strawberry', 'grape', 'blueberry'}\n",
            "{'strawberry', 'apple', 'grape', 'blueberry'}\n"
          ]
        }
      ],
      "source": [
        "fruits = {\"grape\", \"strawberry\", \"blueberry\"}\n",
        "print(fruits)\n",
        "\n",
        "fruits.add(\"apple\")\n",
        "print(fruits)"
      ]
    },
    {
      "cell_type": "markdown",
      "metadata": {
        "id": "l3jzJYdOMDMP"
      },
      "source": [
        "To add multiple elements to a set, use the `update()` method. For example:"
      ]
    },
    {
      "cell_type": "code",
      "execution_count": 6,
      "metadata": {
        "id": "7yKgpghTMDMQ",
        "outputId": "eddf35cd-51f7-4ddb-b173-8e50ff54d5a7",
        "colab": {
          "base_uri": "https://localhost:8080/"
        }
      },
      "outputs": [
        {
          "output_type": "stream",
          "name": "stdout",
          "text": [
            "{'strawberry', 'grape', 'blueberry'}\n",
            "{'banana', 'strawberry', 'orange', 'grape', 'blueberry'}\n"
          ]
        }
      ],
      "source": [
        "fruits = {\"grape\", \"strawberry\", \"blueberry\"}\n",
        "print(fruits)\n",
        "\n",
        "fruits.update([\"banana\", \"orange\"])\n",
        "print(fruits)"
      ]
    },
    {
      "cell_type": "markdown",
      "metadata": {
        "id": "eNj5CtWSMDMQ"
      },
      "source": [
        "### Removing Elements from a Set\n",
        "\n",
        "To remove a specific element from a set, use the `remove()` method. For example:"
      ]
    },
    {
      "cell_type": "code",
      "execution_count": null,
      "metadata": {
        "id": "ArChp2E-MDMQ"
      },
      "outputs": [],
      "source": [
        "print(fruits)\n",
        "\n",
        "fruits.remove(\"banana\")\n",
        "print(fruits)"
      ]
    },
    {
      "cell_type": "markdown",
      "metadata": {
        "id": "Qy9EP5_gMDMQ"
      },
      "source": [
        "To remove and return an arbitrary element from a set, use the `pop()` method. For example:"
      ]
    },
    {
      "cell_type": "code",
      "execution_count": 9,
      "metadata": {
        "id": "ChplNKWPMDMQ",
        "outputId": "8a2ca790-4e1c-431c-c6c7-b6744d0096a2",
        "colab": {
          "base_uri": "https://localhost:8080/"
        }
      },
      "outputs": [
        {
          "output_type": "stream",
          "name": "stdout",
          "text": [
            "{'orange', 'grape', 'blueberry'}\n",
            "orange\n",
            "{'grape', 'blueberry'}\n"
          ]
        }
      ],
      "source": [
        "print(fruits)\n",
        "\n",
        "popped_element = fruits.pop()\n",
        "print(popped_element)\n",
        "print(fruits)"
      ]
    },
    {
      "cell_type": "markdown",
      "metadata": {
        "id": "PridkcVvMDMQ"
      },
      "source": [
        "### Checking Membership in a Set\n",
        "\n",
        "To check if an element is/is not present in a set, use the `in`/`not in` keyword. For example:"
      ]
    },
    {
      "cell_type": "code",
      "execution_count": 10,
      "metadata": {
        "id": "pqh8IVtnMDMQ",
        "outputId": "98d03544-c78a-4492-9601-a300d74bfbf7",
        "colab": {
          "base_uri": "https://localhost:8080/"
        }
      },
      "outputs": [
        {
          "output_type": "stream",
          "name": "stdout",
          "text": [
            "False\n",
            "True\n"
          ]
        }
      ],
      "source": [
        "print(\"apple\" in fruits)\n",
        "print(\"apple\" not in fruits)"
      ]
    },
    {
      "cell_type": "markdown",
      "metadata": {
        "id": "h_Eq7jw1MDMQ"
      },
      "source": [
        "### Finding the Length of a Set\n",
        "\n",
        "We can retrieve the number of elements in a set using the `len` method, just like in a list:"
      ]
    },
    {
      "cell_type": "code",
      "execution_count": 11,
      "metadata": {
        "id": "yZB75kMCMDMQ",
        "outputId": "c7b0a49d-92db-4ce0-d213-2c50e1215e12",
        "colab": {
          "base_uri": "https://localhost:8080/"
        }
      },
      "outputs": [
        {
          "output_type": "execute_result",
          "data": {
            "text/plain": [
              "6"
            ]
          },
          "metadata": {},
          "execution_count": 11
        }
      ],
      "source": [
        "my_set = {1, 5, 3, 6, 7, 5, 4, 5, 5, 5, 6}\n",
        "len(my_set)"
      ]
    },
    {
      "cell_type": "markdown",
      "metadata": {
        "id": "F8YmeDwDMDMQ"
      },
      "source": [
        "### Finding the Minimum and Maximum in a Set\n",
        "\n",
        "We can retrieve the minimum and maximum value in the set using the `min` and the `max` functions:"
      ]
    },
    {
      "cell_type": "code",
      "execution_count": 12,
      "metadata": {
        "id": "NKlCjv-LMDMQ",
        "outputId": "64c82563-0bcb-4040-b34e-d68f5c45a61d",
        "colab": {
          "base_uri": "https://localhost:8080/"
        }
      },
      "outputs": [
        {
          "output_type": "stream",
          "name": "stdout",
          "text": [
            "1\n",
            "7\n"
          ]
        }
      ],
      "source": [
        "print(min(my_set))\n",
        "print(max(my_set))"
      ]
    },
    {
      "cell_type": "markdown",
      "metadata": {
        "id": "Naa-EgPUMDMQ"
      },
      "source": [
        "## Set Operations"
      ]
    },
    {
      "cell_type": "markdown",
      "metadata": {
        "id": "YHUx-BguMDMQ"
      },
      "source": [
        "Sets in Python share the same principles as sets in mathematics and can support the same operations. The most common ones are `Union`, `Intersection`, `Difference`, and `Symmetric Difference`."
      ]
    },
    {
      "cell_type": "markdown",
      "metadata": {
        "id": "heT8zyS2MDMR"
      },
      "source": [
        "<p align=center><img src=https://github.com/AI-Core/Content-Public/blob/main/Content/units/Essentials/7.%20Python%20programming/9.%20Sets/images/sets.png?raw=1 width=400></p>"
      ]
    },
    {
      "cell_type": "markdown",
      "metadata": {
        "id": "fbq81xTnMDMR"
      },
      "source": [
        "### `.union()`\n",
        "\n",
        "The union of two sets is a new set that contains all the unique elements from both sets. In Python, you can find the union of sets using the `union()` method or the `|` operator. For example:"
      ]
    },
    {
      "cell_type": "code",
      "execution_count": null,
      "metadata": {
        "id": "3fZ_g5gCMDMR"
      },
      "outputs": [],
      "source": [
        "set1 = {1, 2, 3}\n",
        "set2 = {3, 4, 5}\n",
        "union_set = set1.union(set2)\n",
        "print(union_set)\n",
        "# Output: {1, 2, 3, 4, 5}\n",
        "\n",
        "# Using the '|' operator:\n",
        "union_set = set1 | set2\n",
        "print(union_set)\n",
        "# Output: {1, 2, 3, 4, 5}\n"
      ]
    },
    {
      "cell_type": "markdown",
      "metadata": {
        "id": "QzaovylYMDMR"
      },
      "source": [
        "### `.intersection()`\n",
        "\n",
        "The intersection of two sets is a new set that contains the common elements present in both sets. In Python, you can find the intersection of sets using the `intersection()` method or the `&` operator. For example:"
      ]
    },
    {
      "cell_type": "code",
      "execution_count": null,
      "metadata": {
        "id": "XrHdtRj9MDMR"
      },
      "outputs": [],
      "source": [
        "set1 = {1, 2, 3}\n",
        "set2 = {3, 4, 5}\n",
        "intersection_set = set1.intersection(set2)\n",
        "print(intersection_set)\n",
        "# Output: {3}\n",
        "\n",
        "# Using the '&' operator:\n",
        "intersection_set = set1 & set2\n",
        "intersection_set = set1.intersection(set2)\n",
        "# Output: {3}\n"
      ]
    },
    {
      "cell_type": "markdown",
      "metadata": {
        "id": "uL6diNGZMDMR"
      },
      "source": [
        "### `.difference()`\n",
        "\n",
        "The difference between two sets is a new set that contains the elements present in the first set but not in the second set. In Python, you can find the difference between sets using the `difference()` method or the `-` operator. For example:"
      ]
    },
    {
      "cell_type": "code",
      "execution_count": null,
      "metadata": {
        "id": "ar_gfz9qMDMR"
      },
      "outputs": [],
      "source": [
        "set1 = {1, 2, 3}\n",
        "set2 = {3, 4, 5}\n",
        "difference_set = set1.difference(set2)\n",
        "print(difference_set)\n",
        "# Output: {1, 2}\n",
        "\n",
        "# Using the '-' operator:\n",
        "difference_set = set1 - set2\n",
        "print(difference_set)\n",
        "# Output: {1, 2}\n"
      ]
    },
    {
      "cell_type": "markdown",
      "metadata": {
        "id": "q6O3Hx4-MDMR"
      },
      "source": [
        "### `.symmetric_difference()`\n",
        "\n",
        "The symmetric difference between two sets is a new set that contains the elements that are present in either of the sets but not in both. In Python, you can find the symmetric difference between sets using the `symmetric_difference()` method or the `^` operator. For example:"
      ]
    },
    {
      "cell_type": "code",
      "execution_count": null,
      "metadata": {
        "id": "CF4RQRvLMDMR"
      },
      "outputs": [],
      "source": [
        "set1 = {1, 2, 3}\n",
        "set2 = {3, 4, 5}\n",
        "symmetric_difference_set = set1.symmetric_difference(set2)\n",
        "print(symmetric_difference_set)\n",
        "# Output: {1, 2, 4, 5}\n",
        "\n",
        "# Using the '^' operator:\n",
        "symmetric_difference_set = set1 ^ set2\n",
        "print(symmetric_difference_set)\n",
        "# Output: {1, 2, 4, 5}\n"
      ]
    },
    {
      "cell_type": "markdown",
      "metadata": {
        "id": "q7C6dADXMDMR"
      },
      "source": [
        "### Subset and Superset Relationships\n",
        "\n",
        "In set theory, one set can be a subset or superset of another set. A set is considered a subset if all its elements are present in the other set. Conversely, a set is considered a superset if it contains all the elements of the other set. In Python, you can check subset and superset relationships using the `issubset()` and `issuperset()` methods, which will return a Boolean value. For example:"
      ]
    },
    {
      "cell_type": "code",
      "execution_count": 13,
      "metadata": {
        "id": "xZA7ZeZiMDMR",
        "outputId": "a0543eb7-0dea-42b8-8c54-963d50e93c2d",
        "colab": {
          "base_uri": "https://localhost:8080/"
        }
      },
      "outputs": [
        {
          "output_type": "stream",
          "name": "stdout",
          "text": [
            "True\n",
            "True\n"
          ]
        }
      ],
      "source": [
        "set1 = {1, 2, 3}\n",
        "set2 = {1, 2, 3, 4, 5}\n",
        "\n",
        "set1_subset_of_set2 = set1.issubset(set2)\n",
        "print(set1_subset_of_set2)\n",
        "# Output: True\n",
        "\n",
        "set2_superset_of_set1 = set2.issuperset(set1)\n",
        "print(set2_superset_of_set1)\n",
        "# Output: True\n"
      ]
    },
    {
      "cell_type": "markdown",
      "metadata": {
        "id": "e_SN9AAKMDMR"
      },
      "source": [
        "### Disjoint Sets\n",
        "\n",
        "Two sets are considered disjoint if they have no common elements. In Python, you can check if two sets are disjoint using the `isdisjoint()` method, which also returns a Boolean value. For example:"
      ]
    },
    {
      "cell_type": "code",
      "execution_count": 14,
      "metadata": {
        "id": "ZsbeYhoBMDMS",
        "outputId": "819f6132-135c-43cd-c627-ed647cbb481e",
        "colab": {
          "base_uri": "https://localhost:8080/"
        }
      },
      "outputs": [
        {
          "output_type": "stream",
          "name": "stdout",
          "text": [
            "True\n"
          ]
        }
      ],
      "source": [
        "set1 = {1, 2, 3}\n",
        "set2 = {4, 5, 6}\n",
        "\n",
        "are_disjoint = set1.isdisjoint(set2)\n",
        "print(are_disjoint)\n",
        "# Output: True\n"
      ]
    },
    {
      "cell_type": "markdown",
      "metadata": {
        "id": "BtdbU8GEMDMS"
      },
      "source": [
        "## Key Takeaways\n",
        "\n",
        "- Sets in Python are an unordered collection of unique elements\n",
        "- Sets do not maintain any specific order of elements\n",
        "- Sets automatically eliminate duplicate elements\n",
        "- Sets can be created using curly braces `{}` or the `set()` constructor\n",
        "- Basic operations on sets include adding elements with `add()` and `update()`, removing elements with `remove()` and `pop()`, checking membership with the `in` keyword, and finding the length with `len()`\n",
        "- Set operations include finding the union of sets with `union()` or `|`, the intersection with `intersection()` or `&`, the difference with `difference()` or `-`, the symmetric difference with `symmetric_difference()` or `^`, and checking subset and superset relationships with `issubset()` and `issuperset()`"
      ]
    }
  ],
  "metadata": {
    "interpreter": {
      "hash": "3d597f4c481aa0f25dceb95d2a0067e73c0966dcbd003d741d821a7208527ecf"
    },
    "kernelspec": {
      "display_name": "Python 3.9.1 64-bit ('base': conda)",
      "name": "python3"
    },
    "language_info": {
      "codemirror_mode": {
        "name": "ipython",
        "version": 3
      },
      "file_extension": ".py",
      "mimetype": "text/x-python",
      "name": "python",
      "nbconvert_exporter": "python",
      "pygments_lexer": "ipython3",
      "version": "3.9.2"
    },
    "colab": {
      "provenance": []
    }
  },
  "nbformat": 4,
  "nbformat_minor": 0
}