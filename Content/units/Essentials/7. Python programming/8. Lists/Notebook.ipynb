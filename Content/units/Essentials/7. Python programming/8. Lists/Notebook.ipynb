{
  "cells": [
    {
      "cell_type": "markdown",
      "metadata": {
        "id": "XYQK17gSTAzG"
      },
      "source": [
        "# Lists"
      ]
    },
    {
      "cell_type": "markdown",
      "metadata": {
        "id": "6izFrQyvTAzI"
      },
      "source": [
        "Lists are an essential and fundamental data structure in programming. They serve as ordered collections that enable you to store and organize multiple items in a structured manner.\n",
        "\n",
        "## Motivation\n",
        "\n",
        "Welcome to your journey of learning about lists in programming! Let's explore the key reasons why learning about lists is valuable:\n",
        "- **Data Storage and Organization**:  Lists are like special containers that can hold lots of things together. They help you store and organize different pieces of data in one place. It's like having a box where you can keep your favorite snacks. Lists make it easier to keep track of and work with collections of data.\n",
        "\n",
        "- **Iterating and Manipulating Data**: Lists allow you to do cool things with your data. You can go through each item in the list and do something with it. You can change, add, or take away things from the list, just like adding more snacks to your box. Lists give you the power to work with data in many different ways.\n",
        "\n",
        "## Lists Creation\n",
        "\n",
        "In Python, lists are created by enclosing elements within square brackets (`[]`), and each element is separated by a comma. Lists can store elements of different types, including numbers, strings, or even other lists. Here are a few examples of lists:\n",
        "- A list of integers: `[1, 2, 3, 4, 5]`\n",
        "- A list of strings: `[\"apple\", \"banana\", \"cherry\"]`\n",
        "- A list of mixed data types: `[10, \"hello\", 3.14]`\n",
        "\n",
        "To create an empty list, you can use empty square brackets (`[]`), indicating that the list contains no elements."
      ]
    },
    {
      "cell_type": "code",
      "execution_count": null,
      "metadata": {
        "id": "_pGYucaBTAzJ"
      },
      "outputs": [],
      "source": [
        "empty_list = []"
      ]
    },
    {
      "cell_type": "markdown",
      "metadata": {
        "id": "-rbgKOJpTAzJ"
      },
      "source": [
        "## List characteristics\n",
        "\n",
        "- **1. Ordered**: Lists maintain the order of elements as they are added. The position of an element in a list is determined by its index."
      ]
    },
    {
      "cell_type": "code",
      "execution_count": null,
      "metadata": {
        "id": "CPvXz26iTAzK",
        "outputId": "2daca2d5-85b3-496a-a26f-b73916b02a85"
      },
      "outputs": [
        {
          "name": "stdout",
          "output_type": "stream",
          "text": [
            "apple\n"
          ]
        }
      ],
      "source": [
        "fruits = [\"apple\", \"banana\", \"cherry\"]\n",
        "print(fruits[0])  # Output: \"apple\""
      ]
    },
    {
      "cell_type": "markdown",
      "metadata": {
        "id": "0kilOf0RTAzK"
      },
      "source": [
        "- **2. Mutable**: Lists are mutable, meaning you can modify, add, or remove elements after the list is created. This allows for dynamic changes to the list's content."
      ]
    },
    {
      "cell_type": "code",
      "execution_count": null,
      "metadata": {
        "id": "Zfqij3tnTAzK",
        "outputId": "b6c6eb0f-ff9d-4e0a-c0a7-f4bde71b5b20"
      },
      "outputs": [
        {
          "name": "stdout",
          "output_type": "stream",
          "text": [
            "[1, 2, 10, 4, 5]\n"
          ]
        }
      ],
      "source": [
        "numbers = [1, 2, 3, 4, 5]\n",
        "numbers[2] = 10\n",
        "print(numbers)  # Output: [1, 2, 10, 4, 5]"
      ]
    },
    {
      "cell_type": "markdown",
      "metadata": {
        "id": "Bcj_Bv6kTAzL"
      },
      "source": [
        "- **3. Heterogeneous Elements**: Lists can contain elements of different data types. You can have a mix of integers, strings, or even other lists within a single list."
      ]
    },
    {
      "cell_type": "code",
      "execution_count": null,
      "metadata": {
        "id": "lDoq3K7HTAzL"
      },
      "outputs": [],
      "source": [
        "mixed_list = [1, \"hello\", [2, 4, 6]]"
      ]
    },
    {
      "cell_type": "markdown",
      "metadata": {
        "id": "3vk86zRVTAzL"
      },
      "source": [
        "- **4. Variable Length**: Lists can grow or shrink dynamically as elements are added or removed. They do not have a fixed size, allowing for flexibility in managing varying amounts of data. We will see how to do that later in this lesson."
      ]
    },
    {
      "cell_type": "markdown",
      "metadata": {
        "id": "rmsCuR9OTAzL"
      },
      "source": []
    },
    {
      "cell_type": "markdown",
      "metadata": {
        "id": "XFfDcD4NTAzL"
      },
      "source": [
        "## Indexing and Slicing\n",
        "\n",
        "Indexing and slicing are fundamental operations that allow you to access specific elements or a range of elements within a list.\n",
        "\n",
        "### Indexing\n",
        "\n",
        ">  In the context of lists, an index refers to the position or location of an element within the list. Each element in a list is assigned a unique index value that allows you to access and manipulate that element. Indexing involves accessing individual elements of a list by their index values.\n",
        "\n",
        "- Indexing starts at `0`: In most programming languages, including Python, indexing starts from `0`. The first element in a list has an index of `0`, the second element has an index of `1`, and so on. The last element of a list can be accessed using the index `len(list_name) - 1`.\n",
        "\n",
        "- Negative indexing: Lists also support negative indexing, where the index `-1` refers to the last element, `-2` refers to the second-to-last element, and so on. Negative indices count from the end of the list towards the beginning."
      ]
    },
    {
      "cell_type": "code",
      "execution_count": null,
      "metadata": {
        "id": "UR6KMyn9TAzL",
        "outputId": "7584497e-5342-4612-d3ec-aa829471893b"
      },
      "outputs": [
        {
          "name": "stdout",
          "output_type": "stream",
          "text": [
            "apple\n",
            "banana\n",
            "cherry\n",
            "banana\n"
          ]
        }
      ],
      "source": [
        "fruits = [\"apple\", \"banana\", \"cherry\"]\n",
        "print(fruits[0])     # Output: \"apple\"\n",
        "print(fruits[1])     # Output: \"banana\"\n",
        "print(fruits[-1])    # Output: \"cherry\"\n",
        "print(fruits[-2])    # Output: \"banana\""
      ]
    },
    {
      "cell_type": "markdown",
      "metadata": {
        "id": "n_Ar1cxyTAzL"
      },
      "source": [
        "- Out-of-range indices: If you try to access an index that is outside the valid range of indices for a list, you'll get an `IndexError`. It's important to ensure that the index is within the range of the list to avoid such errors."
      ]
    },
    {
      "cell_type": "code",
      "execution_count": null,
      "metadata": {
        "id": "yayuXE3gTAzM",
        "outputId": "342f4853-4327-41a3-c914-7694627b85db"
      },
      "outputs": [
        {
          "ename": "IndexError",
          "evalue": "list index out of range",
          "output_type": "error",
          "traceback": [
            "\u001b[0;31m---------------------------------------------------------------------------\u001b[0m",
            "\u001b[0;31mIndexError\u001b[0m                                Traceback (most recent call last)",
            "\u001b[1;32m/Users/maya/Desktop/AiCore Work/Content-Projects/Content/units/Essentials/7. Python programming/8. Lists/Notebook.ipynb Cell 6\u001b[0m in \u001b[0;36m<cell line: 2>\u001b[0;34m()\u001b[0m\n\u001b[1;32m      <a href='vscode-notebook-cell:/Users/maya/Desktop/AiCore%20Work/Content-Projects/Content/units/Essentials/7.%20Python%20programming/8.%20Lists/Notebook.ipynb#Y213sZmlsZQ%3D%3D?line=0'>1</a>\u001b[0m fruits \u001b[39m=\u001b[39m [\u001b[39m\"\u001b[39m\u001b[39mapple\u001b[39m\u001b[39m\"\u001b[39m, \u001b[39m\"\u001b[39m\u001b[39mbanana\u001b[39m\u001b[39m\"\u001b[39m, \u001b[39m\"\u001b[39m\u001b[39mcherry\u001b[39m\u001b[39m\"\u001b[39m]\n\u001b[0;32m----> <a href='vscode-notebook-cell:/Users/maya/Desktop/AiCore%20Work/Content-Projects/Content/units/Essentials/7.%20Python%20programming/8.%20Lists/Notebook.ipynb#Y213sZmlsZQ%3D%3D?line=1'>2</a>\u001b[0m \u001b[39mprint\u001b[39m(fruits[\u001b[39m3\u001b[39;49m])\n",
            "\u001b[0;31mIndexError\u001b[0m: list index out of range"
          ]
        }
      ],
      "source": [
        "fruits = [\"apple\", \"banana\", \"cherry\"]\n",
        "print(fruits[3])  # IndexError: list index out of range"
      ]
    },
    {
      "cell_type": "markdown",
      "metadata": {
        "id": "ZiMAlLbMTAzM"
      },
      "source": [
        "In this example, the list `fruits` has three elements with indices `0`, `1`, and `2`. However, when we try to access the element at index `3` using `fruits[3]`, it goes beyond the valid range of indices. As a result, Python raises an `IndexError` indicating that the list index is out of range.\n",
        "\n",
        "To avoid this error, you need to ensure that the index you're trying to access is within the valid range of indices for the list. In this case, valid indices for fruits range from `0` to `2` (inclusive), so accessing `fruits[2]` will give you the last element of the list without causing an `IndexError`."
      ]
    },
    {
      "cell_type": "markdown",
      "metadata": {
        "id": "AtXEHg8aTAzM"
      },
      "source": [
        "### Slicing\n",
        "\n",
        "Slicing allows you to extract a portion of a list by specifying a range of indices. It creates a new list containing the selected elements. The syntax for slicing is `start_index`:`stop_index`.\n",
        "\n",
        "The `start_index` parameter in slicing denotes the index at which the slicing operation begins. The element at the `start_index` is included in the slice. The `stop_index` parameter in slicing denotes the index at which the slicing operation ends. The element at the `stop_index` is not included in the slice."
      ]
    },
    {
      "cell_type": "code",
      "execution_count": null,
      "metadata": {
        "id": "Ujgx4xkvTAzM",
        "outputId": "db16e194-de80-46fc-f826-f584060fb6f3"
      },
      "outputs": [
        {
          "name": "stdout",
          "output_type": "stream",
          "text": [
            "[2, 3, 4]\n"
          ]
        }
      ],
      "source": [
        "numbers = [1, 2, 3, 4, 5]\n",
        "sliced_list = numbers[1:4]\n",
        "print(sliced_list)    # Output: [2, 3, 4]"
      ]
    },
    {
      "cell_type": "markdown",
      "metadata": {
        "id": "T-0ii4agTAzM"
      },
      "source": [
        "In the example above, `numbers[1:4]` returns a new list containing elements from index 1 (inclusive) to index 4 (exclusive), which are the elements `[2, 3, 4]` in the original list.\n",
        "\n",
        "- Omitting indices: When you omit the `start_index` in a slice, it defaults to `0`, and when you omit the `stop_index`, it defaults to the length of the list."
      ]
    },
    {
      "cell_type": "code",
      "execution_count": 6,
      "metadata": {
        "id": "v4b0dL0FTAzM",
        "outputId": "21668d74-8cab-4b8c-a101-1ee7d4bc8c5d",
        "colab": {
          "base_uri": "https://localhost:8080/"
        }
      },
      "outputs": [
        {
          "output_type": "stream",
          "name": "stdout",
          "text": [
            "[1, 2, 3]\n",
            "[3, 4, 5]\n",
            "[1, 2, 3, 4, 5]\n",
            "[4, 5]\n"
          ]
        }
      ],
      "source": [
        "numbers = [1, 2, 3, 4, 5]\n",
        "print(numbers[:3])    # Output: [1, 2, 3]\n",
        "print(numbers[2:])    # Output: [3, 4, 5]\n",
        "print(numbers[:])     # Output: [1, 2, 3, 4, 5]\n",
        "print(numbers[3:])"
      ]
    },
    {
      "cell_type": "markdown",
      "metadata": {
        "id": "shJcX0jrTAzM"
      },
      "source": [
        "In the example above, `numbers[:3]` returns a new list containing the elements from the start of the list up to index `3`. `numbers[2:]` returns a new list containing elements from index `2` to the end of the list. `numbers[:]` returns a copy of the entire list."
      ]
    },
    {
      "cell_type": "markdown",
      "metadata": {
        "id": "3DJ8we-iTAzM"
      },
      "source": [
        "## Nested Lists\n",
        "\n",
        "In Python, a nested list is a list that contains other lists as elements. This concept allows you to create complex data structures that can store multiple levels of information. Each nested list can have its own elements, including other nested lists. This hierarchical structure enables you to represent data in a more organized and structured manner.\n",
        "\n",
        "### Creating Nested Lists\n",
        "\n",
        "To create a nested list, you can simply include lists as elements within another list. Here's an example:"
      ]
    },
    {
      "cell_type": "code",
      "execution_count": null,
      "metadata": {
        "id": "72-q1jNHTAzN"
      },
      "outputs": [],
      "source": [
        "nested_list = [[1, 2, 3], [4, 5, 6], [7, 8, 9]]"
      ]
    },
    {
      "cell_type": "markdown",
      "metadata": {
        "id": "vhcbRzxHTAzN"
      },
      "source": [
        "In the above example, `nested_list` contains three inner lists, each representing a row of values. The outer list encapsulates these inner lists, forming a nested structure.\n",
        "\n",
        "### Accessing Elements in Nested Lists\n",
        "\n",
        "To access elements in a nested list, you use multiple index positions. The first index represents the outer list's position, and the second index represents the position within the inner list. Here's an example:"
      ]
    },
    {
      "cell_type": "code",
      "execution_count": null,
      "metadata": {
        "id": "DFLg_o6ETAzN",
        "outputId": "22807373-0534-49f3-cb6f-0e5b8c3ff473"
      },
      "outputs": [
        {
          "name": "stdout",
          "output_type": "stream",
          "text": [
            "[1, 2, 3]\n",
            "5\n"
          ]
        }
      ],
      "source": [
        "nested_list = [[1, 2, 3], [4, 5, 6], [7, 8, 9]]\n",
        "print(nested_list[0])    # Output: [1, 2, 3]\n",
        "print(nested_list[1][1]) # Output: 5"
      ]
    },
    {
      "cell_type": "markdown",
      "metadata": {
        "id": "QfS0ZS7GTAzN"
      },
      "source": [
        "In the above example, `nested_list[0]` retrieves the first inner list `[1, 2, 3]`. To access the value `5` within the second inner list, you use `nested_list[1][1]`.\n",
        "\n",
        "### Modifying Nested Lists\n",
        "\n",
        "You can modify elements within a nested list using assignment. Access the desired element using indexing and assign a new value to it. Here's an example:"
      ]
    },
    {
      "cell_type": "code",
      "execution_count": null,
      "metadata": {
        "id": "BWYIZKpGTAzN",
        "outputId": "3c668e63-cf21-4401-9bbd-6c3ac94bad40"
      },
      "outputs": [
        {
          "name": "stdout",
          "output_type": "stream",
          "text": [
            "[[1, 2, 3], [10, 5, 6], [7, 8, 9]]\n"
          ]
        }
      ],
      "source": [
        "nested_list = [[1, 2, 3], [4, 5, 6], [7, 8, 9]]\n",
        "nested_list[1][0] = 10\n",
        "print(nested_list)   # Output: [[1, 2, 3], [10, 5, 6], [7, 8, 9]]"
      ]
    },
    {
      "cell_type": "markdown",
      "metadata": {
        "id": "RRkKcqpXTAzO"
      },
      "source": [
        "In the above example, `nested_list[1][0]` represents the element `4` within the second inner list. By assigning it a new value of `10`, we modify the nested list accordingly."
      ]
    },
    {
      "cell_type": "markdown",
      "metadata": {
        "id": "cU17CoSDTAzO"
      },
      "source": [
        "## List Operations\n",
        "\n",
        "List operations refer to various actions or manipulations that can be performed on lists. Here are some common list operations:\n",
        "\n",
        "### Concatenation (`+` operator):\n",
        "\n",
        "Lists can be concatenated using the `+` operator. It combines two or more lists into a single list, preserving the order of elements."
      ]
    },
    {
      "cell_type": "code",
      "execution_count": null,
      "metadata": {
        "id": "4NuDRjSBTAzO",
        "outputId": "bd6200bc-78a2-4434-9c4d-e42310e4fe9d"
      },
      "outputs": [
        {
          "name": "stdout",
          "output_type": "stream",
          "text": [
            "[1, 2, 3, 4, 5, 6]\n"
          ]
        }
      ],
      "source": [
        "list1 = [1, 2, 3]\n",
        "list2 = [4, 5, 6]\n",
        "concatenated = list1 + list2\n",
        "print(concatenated)  # Output: [1, 2, 3, 4, 5, 6]"
      ]
    },
    {
      "cell_type": "markdown",
      "metadata": {
        "id": "3dB8RYPDTAzO"
      },
      "source": [
        "In this example, the `+` operator concatenates `list1` and `list2`, resulting in a new list named `concatenated`.\n",
        "\n",
        "### Repetition (`*` operator):\n",
        "\n",
        "Lists can be repeated or multiplied using the `*` operator. It creates a new list by repeating the elements of the original list a specified number of times."
      ]
    },
    {
      "cell_type": "code",
      "execution_count": null,
      "metadata": {
        "id": "JPkzX2zXTAzO",
        "outputId": "395f0c8d-8936-495d-e703-1321af051940"
      },
      "outputs": [
        {
          "name": "stdout",
          "output_type": "stream",
          "text": [
            "[1, 2, 3, 1, 2, 3, 1, 2, 3]\n"
          ]
        }
      ],
      "source": [
        "numbers = [1, 2, 3]\n",
        "repeated = numbers * 3\n",
        "print(repeated)  # Output: [1, 2, 3, 1, 2, 3, 1, 2, 3]"
      ]
    },
    {
      "cell_type": "markdown",
      "metadata": {
        "id": "a-4bh9ETTAzO"
      },
      "source": [
        "In this example, the `*` operator repeats the elements of the `numbers` list three times, creating a new list named `repeated`.\n",
        "\n",
        "### Membership Testing (`in` and `not in` operators):\n",
        "\n",
        "You can test whether an element is present in a list using the `in` and `not in` operators. They return a Boolean value (`True` or `False`) based on the presence or absence of the element in the list."
      ]
    },
    {
      "cell_type": "code",
      "execution_count": null,
      "metadata": {
        "id": "oaht242-TAzO",
        "outputId": "839dd884-917f-4c62-8546-aab9616094eb"
      },
      "outputs": [
        {
          "name": "stdout",
          "output_type": "stream",
          "text": [
            "True\n",
            "True\n"
          ]
        }
      ],
      "source": [
        "fruits = [\"apple\", \"banana\", \"cherry\"]\n",
        "print(\"banana\" in fruits)      # Output: True\n",
        "print(\"orange\" not in fruits)  # Output: True"
      ]
    },
    {
      "cell_type": "markdown",
      "metadata": {
        "id": "JsQVC64LTAzP"
      },
      "source": [
        "In this example, the `in` operator checks if `\"banana\"` is present in the `fruits` list, returning `True`. The `not in` operator checks if `\"orange\"` is not present in the `fruits` list, returning `True`."
      ]
    },
    {
      "cell_type": "markdown",
      "metadata": {
        "id": "3DMBqEc4TAzP"
      },
      "source": [
        "## List Manipulations and Methods\n",
        "\n",
        "Lists support various operations to interact with their elements. Understanding these operations is essential for working effectively with lists. Here are some of the basic operations:\n",
        "\n",
        "### Accessing Elements\n",
        "\n",
        "You can access individual elements of a list using their index values. Indices start from 0 for the first element and can be negative to access elements from the end of the list."
      ]
    },
    {
      "cell_type": "code",
      "execution_count": null,
      "metadata": {
        "id": "EZDuRxCHTAzP",
        "outputId": "40bd853b-e312-49da-ba0d-2c6fbafbf524"
      },
      "outputs": [
        {
          "name": "stdout",
          "output_type": "stream",
          "text": [
            "apple\n",
            "cherry\n"
          ]
        }
      ],
      "source": [
        "fruits = [\"apple\", \"banana\", \"cherry\"]\n",
        "print(fruits[0])     # Output: \"apple\"\n",
        "print(fruits[-1])    # Output: \"cherry\""
      ]
    },
    {
      "cell_type": "markdown",
      "metadata": {
        "id": "4HbBp2y6TAzP"
      },
      "source": [
        "### Modifying Elements\n",
        "\n",
        "Lists are mutable, so you can modify the value of an element by assigning a new value to its index."
      ]
    },
    {
      "cell_type": "code",
      "execution_count": null,
      "metadata": {
        "id": "P3-k_KekTAzP",
        "outputId": "26b3cca7-0bb5-40f5-d486-52f0fc678322"
      },
      "outputs": [
        {
          "name": "stdout",
          "output_type": "stream",
          "text": [
            "[10, 20, 35, 40, 50]\n"
          ]
        }
      ],
      "source": [
        "numbers = [10, 20, 30, 40, 50]\n",
        "numbers[2] = 35\n",
        "print(numbers)    # Output: [10, 20, 35, 40, 50]"
      ]
    },
    {
      "cell_type": "markdown",
      "metadata": {
        "id": "FDxZtBSBTAzX"
      },
      "source": [
        "### Adding Elements\n",
        "\n",
        "Adding elements to a list is a common operation when working with lists. There are several methods available to add elements to a list.\n",
        "\n",
        "#### `append()` method\n",
        "\n",
        "The `append()` method is used to add an element to the end of a list. It takes a single argument, which is the value to be added."
      ]
    },
    {
      "cell_type": "code",
      "execution_count": null,
      "metadata": {
        "id": "zaJPUc7lTAzY",
        "outputId": "d63be0ef-c228-4916-8089-55eed8b9580e"
      },
      "outputs": [
        {
          "name": "stdout",
          "output_type": "stream",
          "text": [
            "['apple', 'banana', 'cherry', 'orange']\n"
          ]
        }
      ],
      "source": [
        "fruits = [\"apple\", \"banana\", \"cherry\"]\n",
        "fruits.append(\"orange\")\n",
        "print(fruits)    # Output: [\"apple\", \"banana\", \"cherry\", \"orange\"]"
      ]
    },
    {
      "cell_type": "markdown",
      "metadata": {
        "id": "-eRnRtGcTAzY"
      },
      "source": [
        "#### `insert()` method\n",
        "\n",
        "The `insert()` method allows you to add an element at a specific index within a list. It takes two arguments: the index at which to insert the element and the value to be inserted."
      ]
    },
    {
      "cell_type": "code",
      "execution_count": null,
      "metadata": {
        "id": "5DhQmMrOTAzY",
        "outputId": "f96bbfad-1784-4edc-c3d3-c68c1d38d2f9"
      },
      "outputs": [
        {
          "name": "stdout",
          "output_type": "stream",
          "text": [
            "['apple', 'orange', 'banana', 'cherry']\n"
          ]
        }
      ],
      "source": [
        "fruits = [\"apple\", \"banana\", \"cherry\"]\n",
        "fruits.insert(1, \"orange\")\n",
        "print(fruits)  # Output: [\"apple\", \"orange\", \"banana\", \"cherry\"]"
      ]
    },
    {
      "cell_type": "markdown",
      "metadata": {
        "id": "9qc0erYDTAzY"
      },
      "source": [
        "In this example, the `insert()` method is used to add the value `\"orange\"` at index `1` in the `fruits` list. The existing elements are shifted to accommodate the new element.\n",
        "\n",
        "#### `extend()` method\n",
        "\n",
        "The `extend()` method allows you to add multiple elements from another list to the end of the current list. It takes an iterable as an argument, such as another list or a string. Don't worry about iterables for now as we will cover them in a later lecture, but for now just remember it is an object that represents a collection of elements that can be accessed one by one."
      ]
    },
    {
      "cell_type": "code",
      "execution_count": null,
      "metadata": {
        "id": "Pw2h5iL6TAzY",
        "outputId": "69b17c8c-1857-4cc7-c417-7bf8a40c8725"
      },
      "outputs": [
        {
          "name": "stdout",
          "output_type": "stream",
          "text": [
            "['apple', 'banana', 'cherry', 'orange', 'mango']\n"
          ]
        }
      ],
      "source": [
        "fruits = [\"apple\", \"banana\", \"cherry\"]\n",
        "more_fruits = [\"orange\", \"mango\"]\n",
        "fruits.extend(more_fruits)\n",
        "print(fruits)  # Output: [\"apple\", \"banana\", \"cherry\", \"orange\", \"mango\"]"
      ]
    },
    {
      "cell_type": "markdown",
      "metadata": {
        "id": "ucHifivyTAzY"
      },
      "source": [
        "In this example, the `extend()` method is used to add the elements from the `more_fruits` list to the `fruits` list. The resulting list contains all the elements from both lists."
      ]
    },
    {
      "cell_type": "markdown",
      "metadata": {
        "id": "r4sJbD_bTAzY"
      },
      "source": [
        "### Removing Elements\n",
        "\n",
        "Lists provide several methods to remove elements. The `remove()` method removes the first occurrence of a specified value from the list. It searches for the value and removes it if found. If the value is not present in the list, a `ValueError` is raised."
      ]
    },
    {
      "cell_type": "code",
      "execution_count": null,
      "metadata": {
        "id": "n4HOekdkTAzZ",
        "outputId": "f9d13995-567a-4ccc-8419-7b235deb28ea"
      },
      "outputs": [
        {
          "name": "stdout",
          "output_type": "stream",
          "text": [
            "['apple', 'cherry']\n"
          ]
        }
      ],
      "source": [
        "fruits = [\"apple\", \"banana\", \"cherry\"]\n",
        "fruits.remove(\"banana\")\n",
        "print(fruits)  # Output: [\"apple\", \"cherry\"]\n"
      ]
    },
    {
      "cell_type": "markdown",
      "metadata": {
        "id": "vermzDQkTAzZ"
      },
      "source": [
        "Here's an example that demonstrates the usage of the `remove()` method and the `ValueError` that is raised when the specified value is not found in the list:"
      ]
    },
    {
      "cell_type": "code",
      "execution_count": null,
      "metadata": {
        "id": "Gf5_upzkTAzZ",
        "outputId": "848129e3-d7ed-48be-800a-3767acee6527"
      },
      "outputs": [
        {
          "ename": "ValueError",
          "evalue": "list.remove(x): x not in list",
          "output_type": "error",
          "traceback": [
            "\u001b[0;31m---------------------------------------------------------------------------\u001b[0m",
            "\u001b[0;31mValueError\u001b[0m                                Traceback (most recent call last)",
            "\u001b[1;32m/Users/maya/Desktop/AiCore Work/Content-Projects/Content/units/Essentials/7. Python programming/8. Lists/Notebook.ipynb Cell 24\u001b[0m in \u001b[0;36m<cell line: 2>\u001b[0;34m()\u001b[0m\n\u001b[1;32m      <a href='vscode-notebook-cell:/Users/maya/Desktop/AiCore%20Work/Content-Projects/Content/units/Essentials/7.%20Python%20programming/8.%20Lists/Notebook.ipynb#Y200sZmlsZQ%3D%3D?line=0'>1</a>\u001b[0m fruits \u001b[39m=\u001b[39m [\u001b[39m\"\u001b[39m\u001b[39mapple\u001b[39m\u001b[39m\"\u001b[39m, \u001b[39m\"\u001b[39m\u001b[39mbanana\u001b[39m\u001b[39m\"\u001b[39m, \u001b[39m\"\u001b[39m\u001b[39mcherry\u001b[39m\u001b[39m\"\u001b[39m]\n\u001b[0;32m----> <a href='vscode-notebook-cell:/Users/maya/Desktop/AiCore%20Work/Content-Projects/Content/units/Essentials/7.%20Python%20programming/8.%20Lists/Notebook.ipynb#Y200sZmlsZQ%3D%3D?line=1'>2</a>\u001b[0m fruits\u001b[39m.\u001b[39;49mremove(\u001b[39m\"\u001b[39;49m\u001b[39mgrape\u001b[39;49m\u001b[39m\"\u001b[39;49m)\n",
            "\u001b[0;31mValueError\u001b[0m: list.remove(x): x not in list"
          ]
        }
      ],
      "source": [
        "fruits = [\"apple\", \"banana\", \"cherry\"]\n",
        "fruits.remove(\"grape\")  # ValueError: list.remove(x): x not in list"
      ]
    },
    {
      "cell_type": "markdown",
      "metadata": {
        "id": "YF7MRYgXTAzZ"
      },
      "source": [
        "In this example, we have a list called `fruits` containing three elements: `\"apple\"`, `\"banana\"`, and `\"cherry\"`. When we try to remove the value `\"grape\"` using the `remove()` method, a `ValueError` is raised. This error occurs because the value `\"grape\"` is not present in the list. The `remove()` method expects the value to exist in the list and removes only the first occurrence of that value.\n",
        "\n",
        "The `pop()` method removes an element at a given index from the list and returns its value. If no index is specified, it removes and returns the last element. This method allows you to remove elements from the list while also capturing their values for further processing."
      ]
    },
    {
      "cell_type": "code",
      "execution_count": null,
      "metadata": {
        "id": "XlkFWB3ZTAzZ",
        "outputId": "5689d137-a97a-4fd9-814c-d7cf6361835a"
      },
      "outputs": [
        {
          "name": "stdout",
          "output_type": "stream",
          "text": [
            "30\n",
            "[10, 20, 40, 50]\n"
          ]
        }
      ],
      "source": [
        "numbers = [10, 20, 30, 40, 50]\n",
        "removed_number = numbers.pop(2)\n",
        "print(removed_number)  # Output: 30\n",
        "print(numbers)         # Output: [10, 20, 40, 50]"
      ]
    },
    {
      "cell_type": "markdown",
      "metadata": {
        "id": "0PEztoAzTAzZ"
      },
      "source": [
        "It's important to note that if you try to `pop()` an index that is out of range, an `IndexError` will be raised. Make sure to provide a valid index within the range of the list to avoid this error."
      ]
    },
    {
      "cell_type": "markdown",
      "metadata": {
        "id": "OxUXPJy0TAzZ"
      },
      "source": [
        "### Sorting a List\n",
        "\n",
        "Sorting a list involves arranging its elements in a specific order. Lists in Python provide the `sort()` method, which allows you to sort the elements in ascending order by default. You can also specify the `reverse=True` argument to sort the list in descending order."
      ]
    },
    {
      "cell_type": "code",
      "execution_count": null,
      "metadata": {
        "id": "zqrnYlwjTAzZ",
        "outputId": "de882c8d-a5a8-4c7c-e590-c584449f9f14"
      },
      "outputs": [
        {
          "name": "stdout",
          "output_type": "stream",
          "text": [
            "[1, 2, 5, 8, 9]\n",
            "['cherry', 'banana', 'apple']\n"
          ]
        }
      ],
      "source": [
        "numbers = [5, 2, 8, 1, 9]\n",
        "numbers.sort()\n",
        "print(numbers)  # Output: [1, 2, 5, 8, 9]\n",
        "\n",
        "fruits = [\"apple\", \"banana\", \"cherry\"]\n",
        "fruits.sort(reverse=True)\n",
        "print(fruits)  # Output: [\"cherry\", \"banana\", \"apple\"]"
      ]
    },
    {
      "cell_type": "markdown",
      "metadata": {
        "id": "DA9vERd9TAza"
      },
      "source": [
        "In this example, the `sort()` method is used to sort the `numbers` list in ascending order and the `fruits` list in descending order.\n",
        "\n",
        "### Reversing a List\n",
        "\n",
        "Reversing a list involves changing the order of its elements. The `reverse()` method is available for lists and allows you to reverse the order of elements in-place."
      ]
    },
    {
      "cell_type": "code",
      "execution_count": null,
      "metadata": {
        "id": "-KAi9ovsTAza",
        "outputId": "a51078c3-28b0-461a-9c8d-25fa6b7eec54"
      },
      "outputs": [
        {
          "name": "stdout",
          "output_type": "stream",
          "text": [
            "[5, 4, 3, 2, 1]\n"
          ]
        }
      ],
      "source": [
        "numbers = [1, 2, 3, 4, 5]\n",
        "numbers.reverse()\n",
        "print(numbers)  # Output: [5, 4, 3, 2, 1]"
      ]
    },
    {
      "cell_type": "markdown",
      "metadata": {
        "id": "toII78mzTAza"
      },
      "source": [
        "### Finding the Minimum and Maximum\n",
        "\n",
        "To find the minimum and maximum values in a list, you can use the `min()` and `max()` functions, respectively. These functions return the smallest and largest elements in the list."
      ]
    },
    {
      "cell_type": "code",
      "execution_count": null,
      "metadata": {
        "id": "vxHZrgtZTAza",
        "outputId": "bcda40b5-79ec-469c-9f4c-3926adbb2c87"
      },
      "outputs": [
        {
          "name": "stdout",
          "output_type": "stream",
          "text": [
            "1\n",
            "9\n"
          ]
        }
      ],
      "source": [
        "numbers = [5, 2, 8, 1, 9]\n",
        "print(min(numbers))  # Output: 1\n",
        "print(max(numbers))  # Output: 9"
      ]
    },
    {
      "cell_type": "markdown",
      "metadata": {
        "id": "5HQR40ODTAza"
      },
      "source": [
        "### Finding the length of a List\n",
        "\n",
        "The `len()` function in Python allows you to determine the length or number of elements in a list. It returns an integer representing the count of elements in the list."
      ]
    },
    {
      "cell_type": "code",
      "execution_count": null,
      "metadata": {
        "id": "o76aAPDuTAza",
        "outputId": "002cc235-e0f6-472a-da97-ca800f331f2f"
      },
      "outputs": [
        {
          "name": "stdout",
          "output_type": "stream",
          "text": [
            "3\n"
          ]
        }
      ],
      "source": [
        "fruits = [\"apple\", \"banana\", \"cherry\"]\n",
        "length = len(fruits)\n",
        "print(length)  # Output: 3"
      ]
    },
    {
      "cell_type": "markdown",
      "metadata": {
        "id": "PI2t3jGBTAza"
      },
      "source": [
        "### Finding the index of an element using `index()`\n",
        "\n",
        "The `index()` method allows you to find the index of a specific element within a list. It returns the index of the first occurrence of the element in the list."
      ]
    },
    {
      "cell_type": "code",
      "execution_count": null,
      "metadata": {
        "id": "SS0GYDUhTAza",
        "outputId": "74fb5e19-bf02-440e-dd65-52c2fc1458ab"
      },
      "outputs": [
        {
          "name": "stdout",
          "output_type": "stream",
          "text": [
            "1\n"
          ]
        }
      ],
      "source": [
        "fruits = [\"apple\", \"banana\", \"cherry\"]\n",
        "index = fruits.index(\"banana\")\n",
        "print(index)  # Output: 1"
      ]
    },
    {
      "cell_type": "markdown",
      "metadata": {
        "id": "-_9j0_x-TAzb"
      },
      "source": [
        "### Joining List elements\n",
        "\n",
        "The `join()` method allows you to concatenate the elements of a list into a single string. It takes a string as an argument and joins the elements of the list using that string as a separator."
      ]
    },
    {
      "cell_type": "code",
      "execution_count": null,
      "metadata": {
        "id": "72T0N-rUTAzb",
        "outputId": "f6c3ba46-b8c2-4dfb-a0c2-09366ff40984"
      },
      "outputs": [
        {
          "name": "stdout",
          "output_type": "stream",
          "text": [
            "apple, banana, cherry\n"
          ]
        }
      ],
      "source": [
        "fruits = [\"apple\", \"banana\", \"cherry\"]\n",
        "joined_string = \", \".join(fruits)\n",
        "print(joined_string)  # Output: \"apple, banana, cherry\""
      ]
    },
    {
      "cell_type": "markdown",
      "metadata": {
        "id": "k0L2xzK5TAzb"
      },
      "source": [
        "## Common List Errors and Troubleshooting\n",
        "\n",
        "When working with lists in Python, you may encounter certain errors or issues. Understanding common list errors and knowing how to troubleshoot them can help you write more robust code. Here are a few common list errors and ways to address them:\n",
        "\n",
        "### `IndexError`\n",
        "\n",
        "An `IndexError` occurs when you try to access an index that is outside the valid range of indices for a list. This typically happens when the index is negative or greater than or equal to the length of the list."
      ]
    },
    {
      "cell_type": "code",
      "execution_count": null,
      "metadata": {
        "id": "fEUTXDGITAzb",
        "outputId": "1dc8c3f1-7cfc-4c8e-fe2d-9ec1950a1c22"
      },
      "outputs": [
        {
          "ename": "IndexError",
          "evalue": "list index out of range",
          "output_type": "error",
          "traceback": [
            "\u001b[0;31m---------------------------------------------------------------------------\u001b[0m",
            "\u001b[0;31mIndexError\u001b[0m                                Traceback (most recent call last)",
            "\u001b[1;32m/Users/maya/Desktop/AiCore Work/Content-Projects/Content/units/Essentials/7. Python programming/8. Lists/Notebook.ipynb Cell 60\u001b[0m in \u001b[0;36m<cell line: 2>\u001b[0;34m()\u001b[0m\n\u001b[1;32m      <a href='vscode-notebook-cell:/Users/maya/Desktop/AiCore%20Work/Content-Projects/Content/units/Essentials/7.%20Python%20programming/8.%20Lists/Notebook.ipynb#Y266sZmlsZQ%3D%3D?line=0'>1</a>\u001b[0m fruits \u001b[39m=\u001b[39m [\u001b[39m\"\u001b[39m\u001b[39mapple\u001b[39m\u001b[39m\"\u001b[39m, \u001b[39m\"\u001b[39m\u001b[39mbanana\u001b[39m\u001b[39m\"\u001b[39m, \u001b[39m\"\u001b[39m\u001b[39mcherry\u001b[39m\u001b[39m\"\u001b[39m]\n\u001b[0;32m----> <a href='vscode-notebook-cell:/Users/maya/Desktop/AiCore%20Work/Content-Projects/Content/units/Essentials/7.%20Python%20programming/8.%20Lists/Notebook.ipynb#Y266sZmlsZQ%3D%3D?line=1'>2</a>\u001b[0m \u001b[39mprint\u001b[39m(fruits[\u001b[39m3\u001b[39;49m])\n",
            "\u001b[0;31mIndexError\u001b[0m: list index out of range"
          ]
        }
      ],
      "source": [
        "fruits = [\"apple\", \"banana\", \"cherry\"]\n",
        "print(fruits[3])  # IndexError: list index out of range"
      ]
    },
    {
      "cell_type": "markdown",
      "metadata": {
        "id": "vQQ7BSzLTAzb"
      },
      "source": [
        "To troubleshoot an `IndexError`, ensure that the index you're trying to access is within the valid range of indices for the list. Remember that list indices start from `0` and go up to `len(list) - 1`.\n",
        "\n",
        "### `ValueError`\n",
        "\n",
        "A `ValueError` may occur when using methods like `remove()` or `index()` if the specified value is not found in the list."
      ]
    },
    {
      "cell_type": "code",
      "execution_count": null,
      "metadata": {
        "id": "nn02WooBTAzb",
        "outputId": "ad62e5fc-53c2-4672-d2c8-38036ed8c7ca"
      },
      "outputs": [
        {
          "ename": "ValueError",
          "evalue": "list.remove(x): x not in list",
          "output_type": "error",
          "traceback": [
            "\u001b[0;31m---------------------------------------------------------------------------\u001b[0m",
            "\u001b[0;31mValueError\u001b[0m                                Traceback (most recent call last)",
            "\u001b[1;32m/Users/maya/Desktop/AiCore Work/Content-Projects/Content/units/Essentials/7. Python programming/8. Lists/Notebook.ipynb Cell 62\u001b[0m in \u001b[0;36m<cell line: 2>\u001b[0;34m()\u001b[0m\n\u001b[1;32m      <a href='vscode-notebook-cell:/Users/maya/Desktop/AiCore%20Work/Content-Projects/Content/units/Essentials/7.%20Python%20programming/8.%20Lists/Notebook.ipynb#Y301sZmlsZQ%3D%3D?line=0'>1</a>\u001b[0m fruits \u001b[39m=\u001b[39m [\u001b[39m\"\u001b[39m\u001b[39mapple\u001b[39m\u001b[39m\"\u001b[39m, \u001b[39m\"\u001b[39m\u001b[39mbanana\u001b[39m\u001b[39m\"\u001b[39m, \u001b[39m\"\u001b[39m\u001b[39mcherry\u001b[39m\u001b[39m\"\u001b[39m]\n\u001b[0;32m----> <a href='vscode-notebook-cell:/Users/maya/Desktop/AiCore%20Work/Content-Projects/Content/units/Essentials/7.%20Python%20programming/8.%20Lists/Notebook.ipynb#Y301sZmlsZQ%3D%3D?line=1'>2</a>\u001b[0m fruits\u001b[39m.\u001b[39;49mremove(\u001b[39m\"\u001b[39;49m\u001b[39morange\u001b[39;49m\u001b[39m\"\u001b[39;49m)\n",
            "\u001b[0;31mValueError\u001b[0m: list.remove(x): x not in list"
          ]
        }
      ],
      "source": [
        "fruits = [\"apple\", \"banana\", \"cherry\"]\n",
        "fruits.remove(\"orange\")  # ValueError: list.remove(x): x not in list"
      ]
    },
    {
      "cell_type": "markdown",
      "metadata": {
        "id": "BDDZ1cp0TAzb"
      },
      "source": [
        "To handle a `ValueError`, you should check if the value exists in the list before performing the operation.\n",
        "\n",
        "### `AttributeError`\n",
        "\n",
        "An `AttributeError` can occur when using incorrect or unsupported list operations or methods. For example, attempting to sort a list that contains elements of different data types can result in an `AttributeError`."
      ]
    },
    {
      "cell_type": "code",
      "execution_count": null,
      "metadata": {
        "id": "h9HJqNqiTAzc",
        "outputId": "623315b8-ab79-4ad7-956b-c8a8cb77cea5"
      },
      "outputs": [
        {
          "ename": "TypeError",
          "evalue": "'<' not supported between instances of 'int' and 'str'",
          "output_type": "error",
          "traceback": [
            "\u001b[0;31m---------------------------------------------------------------------------\u001b[0m",
            "\u001b[0;31mTypeError\u001b[0m                                 Traceback (most recent call last)",
            "\u001b[1;32m/Users/maya/Desktop/AiCore Work/Content-Projects/Content/units/Essentials/7. Python programming/8. Lists/Notebook.ipynb Cell 64\u001b[0m in \u001b[0;36m<cell line: 2>\u001b[0;34m()\u001b[0m\n\u001b[1;32m      <a href='vscode-notebook-cell:/Users/maya/Desktop/AiCore%20Work/Content-Projects/Content/units/Essentials/7.%20Python%20programming/8.%20Lists/Notebook.ipynb#Y304sZmlsZQ%3D%3D?line=0'>1</a>\u001b[0m fruits \u001b[39m=\u001b[39m [\u001b[39m\"\u001b[39m\u001b[39mapple\u001b[39m\u001b[39m\"\u001b[39m, \u001b[39m\"\u001b[39m\u001b[39mbanana\u001b[39m\u001b[39m\"\u001b[39m, \u001b[39m\"\u001b[39m\u001b[39mcherry\u001b[39m\u001b[39m\"\u001b[39m, \u001b[39m5\u001b[39m]\n\u001b[0;32m----> <a href='vscode-notebook-cell:/Users/maya/Desktop/AiCore%20Work/Content-Projects/Content/units/Essentials/7.%20Python%20programming/8.%20Lists/Notebook.ipynb#Y304sZmlsZQ%3D%3D?line=1'>2</a>\u001b[0m fruits\u001b[39m.\u001b[39;49msort()\n",
            "\u001b[0;31mTypeError\u001b[0m: '<' not supported between instances of 'int' and 'str'"
          ]
        }
      ],
      "source": [
        "fruits = [\"apple\", \"banana\", \"cherry\", 5]\n",
        "fruits.sort()  # AttributeError: 'int' object has no attribute 'lower'"
      ]
    },
    {
      "cell_type": "markdown",
      "metadata": {
        "id": "uy7P-jSCTAzc"
      },
      "source": [
        "To resolve an `AttributeError`, ensure that you're using the appropriate methods and operations supported by lists. Check the documentation or the specific error message to identify the cause of the error.\n",
        "\n",
        "### Troubleshooting Tips\n",
        "\n",
        "- Double-check your indices: Ensure that the indices you are using to access or modify list elements are correct and within the valid range\n",
        "- Verify the presence of values: Before using methods like `remove()` or `index()`, confirm that the value exists in the list to avoid `ValueError`\n",
        "- Check data types: If you encounter an `AttributeError` or unexpected behavior, review the data types in your list and ensure they are compatible with the operations you're performing\n",
        "- Print and debug: If you're unsure about the state of your list, print intermediate results or use debugging techniques to identify any issues\n",
        "\n",
        "By understanding these common list errors and following troubleshooting strategies, you can handle and resolve issues that may arise while working with lists in Python."
      ]
    },
    {
      "cell_type": "markdown",
      "metadata": {
        "id": "WYCpSNGSTAzc"
      },
      "source": [
        "## Key Takeaways\n",
        "\n",
        "- Lists in Python are versatile data structures that allow you to store and manipulate collections of items\n",
        "- Lists are declared using square brackets (`[]`), and they can contain elements of different data types\n",
        "- Important list operations include concatenation (`+`), repetition (`*`), indexing (`[]`), slicing (`[:]`), length determination (`len()`), sorting (`sort()`), reversing (`reverse()`), finding the minimum (`min()`) and maximum (`max()`) values, and joining elements into a string (`join()`)\n",
        "- When working with lists, be mindful of common errors such as `IndexError`(accessing indices out of range), `ValueError` (searching or removing non-existent values), and `AttributeError` (using unsupported operations or methods)\n",
        "- Troubleshooting techniques for list errors include checking indices, verifying value presence, reviewing data types, and utilizing print statements and debugging tools"
      ]
    }
  ],
  "metadata": {
    "interpreter": {
      "hash": "3d597f4c481aa0f25dceb95d2a0067e73c0966dcbd003d741d821a7208527ecf"
    },
    "kernelspec": {
      "display_name": "Python 3.9.1 64-bit ('base': conda)",
      "name": "python3"
    },
    "language_info": {
      "codemirror_mode": {
        "name": "ipython",
        "version": 3
      },
      "file_extension": ".py",
      "mimetype": "text/x-python",
      "name": "python",
      "nbconvert_exporter": "python",
      "pygments_lexer": "ipython3",
      "version": "3.9.2"
    },
    "colab": {
      "provenance": []
    }
  },
  "nbformat": 4,
  "nbformat_minor": 0
}