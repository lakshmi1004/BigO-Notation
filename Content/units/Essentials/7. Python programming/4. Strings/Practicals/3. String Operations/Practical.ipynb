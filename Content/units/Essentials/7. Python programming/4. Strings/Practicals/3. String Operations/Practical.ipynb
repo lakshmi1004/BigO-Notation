{
  "cells": [
    {
      "cell_type": "markdown",
      "metadata": {
        "id": "t5A3AQmwrA30"
      },
      "source": [
        "# String Operations"
      ]
    },
    {
      "cell_type": "code",
      "execution_count": 7,
      "metadata": {
        "id": "b4be030f",
        "outputId": "271e4eb3-b213-4d5f-9b3c-bed2b9549514",
        "colab": {
          "base_uri": "https://localhost:8080/"
        }
      },
      "outputs": [
        {
          "output_type": "stream",
          "name": "stdout",
          "text": [
            "Downloading the marking system\n"
          ]
        }
      ],
      "source": [
        "#@title ### Run the following cell to download the necessary files for this practical { display-mode: \"form\" }\n",
        "#@markdown Don't worry about what's in this collapsed cell\n",
        "\n",
        "print('Downloading the marking system')\n",
        "!wget https://s3-eu-west-1.amazonaws.com/aicore-portal-public-prod-307050600709/practical_files/40718403-5192-4021-a5bf-ebded753cab5/marking_system.py -q -O marking_system.py\n",
        "import marking_system\n",
        "import importlib\n",
        "importlib.reload(marking_system)\n",
        "import sys\n",
        "ipython = get_ipython()\n",
        "def hide_traceback(exc_tuple=None, filename=None, tb_offset=None, exception_only=False, running_compiled_code=False):\n",
        "    etype, value, tb = sys.exc_info()\n",
        "    value.__cause__ = None  # suppress chained exceptions\n",
        "    return ipython._showtraceback(etype, \"❌ \" + f\"\u001b[91m{value}\", ipython.InteractiveTB.get_exception_only(etype, \"❌ \" + f\"\u001b[91m{value}\"))\n",
        "ipython.showtraceback = hide_traceback\n"
      ]
    },
    {
      "cell_type": "markdown",
      "metadata": {
        "id": "JuPvwjZUrA32"
      },
      "source": [
        "## Adding Strings\n",
        "\n",
        "Strings can be added together using the `+` operator.\n",
        "\n",
        "- Create two strings called `string_1` and `string_2`. Assign the value `\"Hello \"` to `string_1` and the value `\"World!\"` to `string_2`.\n",
        "- Add the two strings together and assign them to a variable called `string_3`.\n",
        "- Print `string_3`."
      ]
    },
    {
      "cell_type": "code",
      "execution_count": 8,
      "metadata": {
        "id": "QGKlcnX5rA33",
        "outputId": "07986f67-4adf-4c08-9053-228e94624ba4",
        "colab": {
          "base_uri": "https://localhost:8080/"
        }
      },
      "outputs": [
        {
          "output_type": "stream",
          "name": "stdout",
          "text": [
            "Hello World!\n"
          ]
        }
      ],
      "source": [
        "# TODO -  Create a variable called `string_1` - assign it a value of \"Hello \"\n",
        "# TODO -  Create a variable called `string_2` - assign it a value of \"World!\"\n",
        "# TODO - Add `string_1` and `string_2`\n",
        "# TODO - Print `string_3`\n",
        "string_1 = \"Hello \"\n",
        "string_2 = \"World!\"\n",
        "\n",
        "string_3 = string_1 + string_2\n",
        "print(string_3)"
      ]
    },
    {
      "cell_type": "code",
      "execution_count": 9,
      "metadata": {
        "id": "_-ecgst5rA33",
        "outputId": "d6026f0a-44e9-47e5-e754-cfdce4201297",
        "colab": {
          "base_uri": "https://localhost:8080/"
        }
      },
      "outputs": [
        {
          "output_type": "stream",
          "name": "stdout",
          "text": [
            "\u001b[92m✔ Well done! You have successfully assigned the strings 'Hello ', 'World!' and 'Hello World!' to the variables 'string_1', 'string_2' and 'string_3'.\n"
          ]
        }
      ],
      "source": [
        "#@title #### Run this cell to check your solution { display-mode: \"form\", run: \"auto\" }\n",
        "\n",
        "assert \"string_1\" in globals(), \"The variable 'string_1' has not been created.\"\n",
        "assert \"string_2\" in globals(), \"The variable 'string_2' has not been created.\"\n",
        "assert \"string_3\" in globals(), \"The variable 'string_3' has not been created.\"\n",
        "marking_system.check_step_1(string_1, string_2, string_3)\n"
      ]
    },
    {
      "cell_type": "markdown",
      "metadata": {
        "id": "E6et5JVXrA33"
      },
      "source": [
        "### Slicing Strings\n",
        "\n",
        "An extension of the idea of indexing a string is slicing. Slicing allows us to select a range of values from a string, based on their indices:"
      ]
    },
    {
      "cell_type": "code",
      "execution_count": 18,
      "metadata": {
        "id": "75XO3_fJrA33",
        "outputId": "ad544f94-9fe7-4f8f-9870-a007f9f8e795",
        "colab": {
          "base_uri": "https://localhost:8080/"
        }
      },
      "outputs": [
        {
          "output_type": "stream",
          "name": "stdout",
          "text": [
            "the first three characters of my string are: \n",
            "one\n",
            "the last two characters are:\n",
            "ee\n",
            "the last two characters are:\n",
            " two\n"
          ]
        }
      ],
      "source": [
        "my_string = \"one two three\"\n",
        "print('the first three characters of my string are:', '\\n' + my_string[:3])\n",
        "# TODO - print the 4th to 7th characters of the string\n",
        "print('the last two characters are:' '\\n' + my_string[-2:])\n",
        "print('the last two characters are:' '\\n' + my_string[3:7])\n"
      ]
    },
    {
      "cell_type": "code",
      "execution_count": 20,
      "metadata": {
        "id": "fZWNPkIyrA33",
        "outputId": "68ecbc00-4cbc-46a1-973f-5538d9b7b08e",
        "colab": {
          "base_uri": "https://localhost:8080/"
        }
      },
      "outputs": [
        {
          "output_type": "stream",
          "name": "stdout",
          "text": [
            "\u001b[92m✔ Well done! Indices in Python start at 0, so the 4th character is at index 3. On the other hand, the second index in the slicing is not included, so you have to include the index of the last character you want to get.\n"
          ]
        }
      ],
      "source": [
        "#@title #### Enter your solution here { display-mode: \"form\", run: \"auto\" }\n",
        "assert \"my_string\" in globals(), \"The variable 'my_string' has not been created. Make sure you haven't deleted it. If so, the value should be 'one two three'.\"\n",
        "#@markdown What indices did you use to print the 4th to 7th characters of the string?\n",
        "index_1 = 3 #@param [2, 3, 4, 5, 6, 7, 8, 9] {type: \"number\"}\n",
        "index_2 = 7 #@param [2, 3, 4, 5, 6, 7, 8, 9] {type: \"number\"}\n",
        "marking_system.check_step_2(index_1, index_2, my_string)\n"
      ]
    },
    {
      "cell_type": "markdown",
      "metadata": {
        "id": "Nv84oG0crA33"
      },
      "source": [
        "### Updating a string\n",
        "\n",
        "You can change part of the content of a string by adding part of string_1 to a new substring, and assigning the new string to the old variable. For example in the code block below, we replace the word `\"World\"` with `\"Crab\"`. You may remember that strings are `immutable`, so you can't just reassign the letters by indexing them. This is the way around that constraint."
      ]
    },
    {
      "cell_type": "code",
      "execution_count": 21,
      "metadata": {
        "id": "x1zMdeoerA34",
        "outputId": "92c98417-db84-4575-9bc5-8eb370d8a366",
        "colab": {
          "base_uri": "https://localhost:8080/"
        }
      },
      "outputs": [
        {
          "output_type": "stream",
          "name": "stdout",
          "text": [
            "Hello Crab!\n"
          ]
        }
      ],
      "source": [
        "string_1 = \"Hello World!\"\n",
        "string_2 = \"Crab!\"\n",
        "string_1 = string_1[:6] + string_2\n",
        "print(string_1)\n"
      ]
    },
    {
      "cell_type": "markdown",
      "metadata": {
        "id": "bv0aILZZrA34"
      },
      "source": [
        "In the code block below, replace the word \"large\" with the word \"small\" in the string, and print the string."
      ]
    },
    {
      "cell_type": "code",
      "execution_count": 22,
      "metadata": {
        "id": "lgSNBC3UrA34",
        "outputId": "9e0f71d6-5b37-4629-e72e-31007e43c173",
        "colab": {
          "base_uri": "https://localhost:8080/"
        }
      },
      "outputs": [
        {
          "output_type": "stream",
          "name": "stdout",
          "text": [
            "Wow, what a small horse!\n"
          ]
        }
      ],
      "source": [
        "sentence_1 = 'Wow, what a large horse!'\n",
        "substring_1 = \"small\"\n",
        "# TODO - Replace \"large\" with \"small\" in the sentence\n",
        "print(sentence_1. replace('large',substring_1))\n"
      ]
    },
    {
      "cell_type": "markdown",
      "metadata": {
        "id": "KqkJ0-adrA34"
      },
      "source": [
        "## Splitting strings\n",
        "\n",
        "We can split strings on a given character value using the `.split()` method. Try splitting up this filepath into drive, folder and filename.\n",
        " -  Call `my_filepath`'s  `.split` method and assign the output to a variable called `my_file_structure`.\n",
        " -  print `my_file_structure`.\n",
        "\n",
        "The variable created is called a `list`. You will learn a lot more about lists later, but for now, you just need to know that they can be indexed, just like strings.\n",
        "\n",
        "- print just the filename, `cow.jpg`"
      ]
    },
    {
      "cell_type": "code",
      "execution_count": 30,
      "metadata": {
        "id": "Lmkf30h_rA34",
        "outputId": "c33ccbc7-739d-453d-872e-f7407fe7ea22",
        "colab": {
          "base_uri": "https://localhost:8080/"
        }
      },
      "outputs": [
        {
          "output_type": "stream",
          "name": "stdout",
          "text": [
            "cow.jpg\n"
          ]
        }
      ],
      "source": [
        "my_filepath = \"C:/Images/cow.jpg\"\n",
        "# TODO  Call `my_filepath`'s  `.split` method and assign the output to a variable called `my_file_structure`.\n",
        "# TODO - print `my_file_structure`\n",
        "# TODO - print just the filename\n",
        "my_filepath = \"C:/Images/cow.jpg\"\n",
        "#my_file_structure = my_filepath[-7:]\n",
        "my_file_structure = my_filepath.split('/')\n",
        "print(my_file_structure[2])"
      ]
    },
    {
      "cell_type": "code",
      "execution_count": 31,
      "metadata": {
        "id": "NgDcATkbrA34",
        "outputId": "6af8c5c8-8aa8-4d60-ad0b-ba043a324d63",
        "colab": {
          "base_uri": "https://localhost:8080/"
        }
      },
      "outputs": [
        {
          "output_type": "stream",
          "name": "stdout",
          "text": [
            "\u001b[92m✔ Well done! You have successfully used the split() method and got the right answers for the length and the index of the filename.\n"
          ]
        }
      ],
      "source": [
        "#@title #### Enter your solution here { display-mode: \"form\", run: \"auto\" }\n",
        "assert \"my_file_structure\" in globals(), \"The variable 'my_file_structure' has not been created. Make sure you haven't deleted it. If so, the value should be 'C:/Images/cow.jpg'.\"\n",
        "#@markdown How many elements are in `my_file_structure`?\n",
        "ans_1 = 3 #@param [0, 1, 2, 3, 4, 5] {type: \"number\"}\n",
        "#@markdown What is the index of the filename in `my_file_structure`?\n",
        "ans_2 = 2 #@param [0, 1, 2, 3, 4, 5] {type: \"number\"}\n",
        "marking_system.check_step_3(my_file_structure, ans_1, ans_2)\n"
      ]
    }
  ],
  "metadata": {
    "kernelspec": {
      "display_name": "content-projects_new",
      "language": "python",
      "name": "python3"
    },
    "language_info": {
      "codemirror_mode": {
        "name": "ipython",
        "version": 3
      },
      "file_extension": ".py",
      "mimetype": "text/x-python",
      "name": "python",
      "nbconvert_exporter": "python",
      "pygments_lexer": "ipython3",
      "version": "3.10.8"
    },
    "vscode": {
      "interpreter": {
        "hash": "4b961f8166aad6ccb4cf65d0f9c742ef9c6c23ffe83ad932438cd83ed96aebaf"
      }
    },
    "colab": {
      "provenance": []
    }
  },
  "nbformat": 4,
  "nbformat_minor": 0
}