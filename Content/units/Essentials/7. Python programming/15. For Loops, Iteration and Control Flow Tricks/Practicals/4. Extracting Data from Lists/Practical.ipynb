{
  "cells": [
    {
      "cell_type": "markdown",
      "metadata": {
        "id": "Imu4lRyExg66"
      },
      "source": [
        "# Extracting Data from Lists"
      ]
    },
    {
      "cell_type": "markdown",
      "metadata": {
        "id": "XBu080yAxg68"
      },
      "source": [
        "Using the following dictionaries:\n"
      ]
    },
    {
      "cell_type": "code",
      "execution_count": 1,
      "metadata": {
        "id": "Ch_0BT2Pxg69"
      },
      "outputs": [],
      "source": [
        "dict_1 = {'London': [51.509865,-0.118092]}\n",
        "dict_2 = {'Paris': [48.864716, 2.349014]}\n"
      ]
    },
    {
      "cell_type": "markdown",
      "metadata": {
        "id": "jGRKGaAMxg6-"
      },
      "source": [
        "### 1. Put them into a list as follows: `my_list = [dict_1, dict_2]`\n",
        "<p style=\"font-size: 14px; color: #999999; margin-top: 0px; margin-bottom: 0px;\">This practical doesn't have a marking system because there are many ways to tackle this issue</p>"
      ]
    },
    {
      "cell_type": "code",
      "execution_count": 4,
      "metadata": {
        "id": "iwX1e45exg6-"
      },
      "outputs": [],
      "source": [
        "# TODO: Create a list of the two dictionaries\n",
        "\n",
        "my_list = [dict_1, dict_2]\n",
        "\n"
      ]
    },
    {
      "cell_type": "markdown",
      "metadata": {
        "id": "BNXNdSxQxg6-"
      },
      "source": [
        "### 2. Write a script that loops through the list and prints out the latitude (first value) of each city\n",
        "\n",
        "The output should look like this:\n",
        "```\n",
        "London: 51.509865\n",
        "Paris: 48.864716\n",
        "```"
      ]
    },
    {
      "cell_type": "code",
      "execution_count": 22,
      "metadata": {
        "id": "RjTM0hIGxg6-",
        "outputId": "edb18fb4-2e82-4a57-a182-f905937be852",
        "colab": {
          "base_uri": "https://localhost:8080/"
        }
      },
      "outputs": [
        {
          "output_type": "stream",
          "name": "stdout",
          "text": [
            "[[51.509865, -0.118092]]\n",
            "London:51.509865\n",
            "[[48.864716, 2.349014]]\n",
            "Paris:48.864716\n"
          ]
        }
      ],
      "source": [
        "# TODO: Loop through the list\n",
        "    # TODO: Get the name of the city by using the keys() method\n",
        "    # TODO: Get the latitude of the city by using the index\n",
        "    # TODO: Print the city name and latitude\n",
        "dict_1 = {'London': [51.509865,-0.118092]}\n",
        "dict_2 = {'Paris': [48.864716, 2.349014]}\n",
        "my_list = [dict_1, dict_2]\n",
        "\n",
        "for city in my_list:\n",
        "  #print(list(city.keys()[0]) + \": \" + str(city.values()[0][0]))\n",
        "  cities = list(city.keys())\n",
        "  latitude = list(city.values())\n",
        "  print(latitude)\n",
        "  print(cities[0] + \":\" + str(latitude[0][0]))"
      ]
    }
  ],
  "metadata": {
    "kernelspec": {
      "display_name": "content-projects_new",
      "language": "python",
      "name": "python3"
    },
    "language_info": {
      "name": "python",
      "version": "3.10.8"
    },
    "vscode": {
      "interpreter": {
        "hash": "4b961f8166aad6ccb4cf65d0f9c742ef9c6c23ffe83ad932438cd83ed96aebaf"
      }
    },
    "colab": {
      "provenance": []
    }
  },
  "nbformat": 4,
  "nbformat_minor": 0
}