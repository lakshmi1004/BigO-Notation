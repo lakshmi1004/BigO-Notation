{
  "cells": [
    {
      "cell_type": "markdown",
      "id": "f55be7bb",
      "metadata": {
        "id": "f55be7bb"
      },
      "source": [
        "# Boolean Comparisons and Operators\n",
        "\n",
        "We can evaluate mathematical comparisons with Booleans.\n",
        "\n",
        "- Create a variable `int_1` and assign it the value `5`.\n",
        "- Create a variable called `int_2` and assign it the value `10`.\n",
        "- Evaluate `int_2` > `int_1`\n",
        "\n"
      ]
    },
    {
      "cell_type": "code",
      "execution_count": 2,
      "id": "f9ea8269",
      "metadata": {
        "id": "f9ea8269",
        "outputId": "538738be-beef-429e-fee6-f12c2d14c4fe",
        "colab": {
          "base_uri": "https://localhost:8080/"
        }
      },
      "outputs": [
        {
          "output_type": "stream",
          "name": "stdout",
          "text": [
            "Downloading the marking system\n"
          ]
        }
      ],
      "source": [
        "#@title ### Run the following cell to download the necessary files for this practical { display-mode: \"form\" }\n",
        "#@markdown Don't worry about what's in this collapsed cell\n",
        "\n",
        "print('Downloading the marking system')\n",
        "!wget https://s3-eu-west-1.amazonaws.com/aicore-portal-public-prod-307050600709/practical_files/663ff305-9cdf-4db9-848a-95d67ee0d5b2/marking_system.py -q -O marking_system.py\n",
        "import marking_system\n",
        "import importlib\n",
        "importlib.reload(marking_system)\n",
        "import sys\n",
        "ipython = get_ipython()\n",
        "def hide_traceback(exc_tuple=None, filename=None, tb_offset=None, exception_only=False, running_compiled_code=False):\n",
        "    etype, value, tb = sys.exc_info()\n",
        "    value.__cause__ = None  # suppress chained exceptions\n",
        "    return ipython._showtraceback(etype, \"❌ \" + f\"\u001b[91m{value}\", ipython.InteractiveTB.get_exception_only(etype, \"❌ \" + f\"\u001b[91m{value}\"))\n",
        "ipython.showtraceback = hide_traceback\n"
      ]
    },
    {
      "cell_type": "code",
      "execution_count": 5,
      "id": "e50978f0",
      "metadata": {
        "id": "e50978f0",
        "outputId": "ea3e395f-7d0b-495d-9d19-32b880efcedb",
        "colab": {
          "base_uri": "https://localhost:8080/"
        }
      },
      "outputs": [
        {
          "output_type": "stream",
          "name": "stdout",
          "text": [
            "True\n"
          ]
        }
      ],
      "source": [
        "# TODO - Create a variable `int_1` and assign it the value `5`.\n",
        "# TODO - Create a variable called `int_2` and assign it the value `10`.\n",
        "# TODO - Evaluate `int_2` > `int_1`\n",
        "int_1 = 5\n",
        "int_2 = 10\n",
        "print(int_2 > int_1)"
      ]
    },
    {
      "cell_type": "code",
      "execution_count": 6,
      "id": "a330df5d",
      "metadata": {
        "id": "a330df5d",
        "outputId": "470c70a0-17ef-4b45-c290-d39a6ed29f4a",
        "colab": {
          "base_uri": "https://localhost:8080/"
        }
      },
      "outputs": [
        {
          "output_type": "stream",
          "name": "stdout",
          "text": [
            "\u001b[92m✔ Well done! int_2 is greater than int_1, so the condition is True.\n"
          ]
        }
      ],
      "source": [
        "#@title #### What is the output of running int_2 > int_1 { display-mode: \"form\", run: \"auto\" }\n",
        "\n",
        "assert \"int_1\" in globals(), \"The variable `int_1` does not exist. Please, create it and assign it the value `5`.\"\n",
        "assert \"int_2\" in globals(), \"The variable `int_2` does not exist. Please, create it and assign it the value `10`.\"\n",
        "\n",
        "ans_1 = \"True\" #@param [\"\", \"True\", \"False\", \"true\", \"false\"]\n",
        "marking_system.check_step_1(ans_1)\n"
      ]
    },
    {
      "cell_type": "markdown",
      "id": "0a732ea2",
      "metadata": {
        "id": "0a732ea2"
      },
      "source": [
        "We can also cast a mathematical expression to a Boolean, and it will evaluate to `True` unless the value is `0`.\n",
        "- Cast `int_2` - `int_1` - `int_1` as a Boolean.\n",
        "- Cast `int_2` - `int_2` - `int_1` as a Boolean."
      ]
    },
    {
      "cell_type": "code",
      "execution_count": 9,
      "id": "2a295b7c",
      "metadata": {
        "id": "2a295b7c",
        "outputId": "ebc312ce-9e98-4faa-af64-d391038b8f85",
        "colab": {
          "base_uri": "https://localhost:8080/"
        }
      },
      "outputs": [
        {
          "output_type": "stream",
          "name": "stdout",
          "text": [
            "False\n",
            "True\n"
          ]
        }
      ],
      "source": [
        "# TODO - Cast `int_2` - `int_1` - `int_1` as a Boolean.\n",
        "# TODO - Cast `int_2` - `int_2` - `int_1` as a Boolean.\n",
        "print(bool(int_2 - int_1 - int_1))\n",
        "print(bool(int_2 - int_2 - int_1))"
      ]
    },
    {
      "cell_type": "code",
      "execution_count": 11,
      "id": "b337e380",
      "metadata": {
        "id": "b337e380",
        "outputId": "1a9ee0b7-c8d6-4f12-94e5-5e4af5de5e4a",
        "colab": {
          "base_uri": "https://localhost:8080/"
        }
      },
      "outputs": [
        {
          "output_type": "stream",
          "name": "stdout",
          "text": [
            "\u001b[92m✔ Well done! In Python, the absence of a value is considered as False. So, for example and empty string or a '0' are considered as False, whereas a non-empty string or a non-zero number are considered as True.\n"
          ]
        }
      ],
      "source": [
        "#@title #### Enter your answers here { display-mode: \"form\", run: \"auto\" }\n",
        "\n",
        "assert \"int_1\" in globals(), \"The variable `int_1` does not exist. Please, create it and assign it the value `5`.\"\n",
        "assert \"int_2\" in globals(), \"The variable `int_2` does not exist. Please, create it and assign it the value `10`.\"\n",
        "\n",
        "#@markdown What is the output of running `bool(int_2 - int_1 - int_1)`?\n",
        "ans_1 = \"False\" #@param [\"\", \"True\", \"False\"]\n",
        "#@markdown What is the output of running `bool(int_2 - int_2 - int_1)`?\n",
        "ans_2 = \"True\" #@param [\"\", \"True\", \"False\"]\n",
        "marking_system.check_step_2(ans_1, ans_2)\n"
      ]
    },
    {
      "cell_type": "markdown",
      "id": "443c667a",
      "metadata": {
        "id": "443c667a"
      },
      "source": [
        "Try the same thing, but with strings.\n",
        "\n",
        "- Create two variables `string_1` and `string_2`, and assign them the values \"abcd\" and \"efgh\" respectively.\n",
        "\n",
        "- Evaluate `string_1` > `string_2`\n",
        "- Evaluate `string_2` > `string_1`\n",
        "\n",
        "When comparing strings, unless you specify otherwise, Python will compare the strings alphabetically."
      ]
    },
    {
      "cell_type": "code",
      "execution_count": 12,
      "id": "009401ea",
      "metadata": {
        "id": "009401ea",
        "outputId": "e86d823b-49f5-45e2-ac1a-6e252323bf61",
        "colab": {
          "base_uri": "https://localhost:8080/"
        }
      },
      "outputs": [
        {
          "output_type": "stream",
          "name": "stdout",
          "text": [
            "False\n",
            "True\n"
          ]
        }
      ],
      "source": [
        "string_1 = \"abcd\"\n",
        "string_2 = \"efgh\"\n",
        "\n",
        "print(string_1 > string_2)\n",
        "print(string_2 > string_1)\n"
      ]
    },
    {
      "cell_type": "markdown",
      "id": "4d48e37f",
      "metadata": {
        "id": "4d48e37f"
      },
      "source": [
        "We can make our evaluation statements more complex using Boolean logical operators, like `not`, `and` and `or`.\n",
        "\n",
        "- Create three variables `A`, `B` and `C`. Assign them the values `2`, `5` and `10`.\n",
        "- Write a python statement that `C` is bigger than `B` but not bigger than `A`. It should evaluate to `False`."
      ]
    },
    {
      "cell_type": "code",
      "execution_count": 17,
      "id": "d69d39d6",
      "metadata": {
        "id": "d69d39d6",
        "outputId": "b265c4f6-7ca3-4c9b-9c14-75861252833f",
        "colab": {
          "base_uri": "https://localhost:8080/"
        }
      },
      "outputs": [
        {
          "output_type": "execute_result",
          "data": {
            "text/plain": [
              "False"
            ]
          },
          "metadata": {},
          "execution_count": 17
        }
      ],
      "source": [
        "# TODO - Create three variables `A`, `B` and `C`. Assign them the values `2`,`5` and `10` respectively.\n",
        "\n",
        "# TODO - Write a python statement that `C` is bigger than `B` but not bigger than `A`. It should evaluate to `False`.\n",
        "\n",
        "A = 2\n",
        "B = 5\n",
        "C = 10\n",
        "bool( C > B < A)\n",
        "\n"
      ]
    },
    {
      "cell_type": "markdown",
      "id": "3e49f5c8",
      "metadata": {
        "id": "3e49f5c8"
      },
      "source": [
        "Make the python statement that `A` is not equal to `B`:"
      ]
    },
    {
      "cell_type": "code",
      "execution_count": 19,
      "id": "a36fd38e",
      "metadata": {
        "id": "a36fd38e",
        "outputId": "42e80bda-05fa-4958-827b-6f25ffdb1d1e",
        "colab": {
          "base_uri": "https://localhost:8080/"
        }
      },
      "outputs": [
        {
          "output_type": "execute_result",
          "data": {
            "text/plain": [
              "True"
            ]
          },
          "metadata": {},
          "execution_count": 19
        }
      ],
      "source": [
        "# TODO - Make the python statement that `A` is not equal to `B`\n",
        "A = 10\n",
        "B = 9\n",
        "bool(A != B)"
      ]
    },
    {
      "cell_type": "code",
      "execution_count": 20,
      "id": "5ce1a741",
      "metadata": {
        "id": "5ce1a741",
        "outputId": "b63b3507-3292-424d-bd50-e1fa5474bf75",
        "colab": {
          "base_uri": "https://localhost:8080/"
        }
      },
      "outputs": [
        {
          "output_type": "stream",
          "name": "stdout",
          "text": [
            "\u001b[92m✔ Well done! To check if two values are different, we use the '!=' operator.\n"
          ]
        }
      ],
      "source": [
        "#@title #### What operator did you use? { display-mode: \"form\", run: \"auto\" }\n",
        "\n",
        "ans_1 = \"!=\" #@param [\"==\", \"!=\", \">\", \"<\", \">=\", \"<=\"]\n",
        "\n",
        "marking_system.check_step_3(ans_1)\n"
      ]
    },
    {
      "cell_type": "markdown",
      "id": "7481fbb3",
      "metadata": {
        "id": "7481fbb3"
      },
      "source": [
        "Negate the previous statement by adding a `not` operator:"
      ]
    },
    {
      "cell_type": "code",
      "execution_count": 25,
      "id": "9612d473",
      "metadata": {
        "id": "9612d473",
        "outputId": "f2d73a92-7baa-45b9-c987-414b87ce894e",
        "colab": {
          "base_uri": "https://localhost:8080/"
        }
      },
      "outputs": [
        {
          "output_type": "stream",
          "name": "stdout",
          "text": [
            "False\n"
          ]
        }
      ],
      "source": [
        "# TODO - Make the python statement that `A` is not equal to `B`. It should evaluate to `False`.\n",
        "A = 10\n",
        "B = 10\n",
        "\n",
        "print(not(A == B))"
      ]
    }
  ],
  "metadata": {
    "kernelspec": {
      "display_name": "content-projects_new",
      "language": "python",
      "name": "python3"
    },
    "language_info": {
      "codemirror_mode": {
        "name": "ipython",
        "version": 3
      },
      "file_extension": ".py",
      "mimetype": "text/x-python",
      "name": "python",
      "nbconvert_exporter": "python",
      "pygments_lexer": "ipython3",
      "version": "3.10.8"
    },
    "vscode": {
      "interpreter": {
        "hash": "4b961f8166aad6ccb4cf65d0f9c742ef9c6c23ffe83ad932438cd83ed96aebaf"
      }
    },
    "colab": {
      "provenance": []
    }
  },
  "nbformat": 4,
  "nbformat_minor": 5
}