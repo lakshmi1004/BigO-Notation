{
  "cells": [
    {
      "cell_type": "markdown",
      "id": "bdef2a2d",
      "metadata": {
        "id": "bdef2a2d"
      },
      "source": [
        "# Dictionaries and List Comprehensions"
      ]
    },
    {
      "cell_type": "markdown",
      "id": "5a9e69e9",
      "metadata": {
        "id": "5a9e69e9"
      },
      "source": [
        "#### 1. Create two dictionaries named dict_1 and dict_2, each one with 2 keys\n",
        "- `name`: a string with a name\n",
        "- `skills`: a list of strings (at least 3) with your skills\n"
      ]
    },
    {
      "cell_type": "code",
      "execution_count": 13,
      "id": "a0eba8c7",
      "metadata": {
        "id": "a0eba8c7"
      },
      "outputs": [],
      "source": [
        "\n",
        "# TODO - Create a dictionaries named dict_1, according to the schema above\n",
        "# TODO - Create a dictionaries named dict_2, according to the schema above\n",
        "dict_1 = {'name':'raji','skills': ['QA','python', 'RE']}\n",
        "dict_2 = {'name':'ramyaaa','skills': ['TA','Docker', 'joker']}"
      ]
    },
    {
      "cell_type": "markdown",
      "id": "90cd8391",
      "metadata": {
        "id": "90cd8391"
      },
      "source": [
        "#### 2. Put both of them in a list called `list_of_dictionaries`"
      ]
    },
    {
      "cell_type": "code",
      "execution_count": 14,
      "id": "a519d58f",
      "metadata": {
        "id": "a519d58f"
      },
      "outputs": [],
      "source": [
        "# TODO - Put both of them in a list called `list_of_dictionaries`\n",
        "list_of_dictionaries = [dict_1, dict_2]"
      ]
    },
    {
      "cell_type": "markdown",
      "id": "742c57e6",
      "metadata": {
        "id": "742c57e6"
      },
      "source": [
        "#### 3. Now index that list of dictionaries to find the last letter of the first skill of the last dictionary\n",
        "\n",
        "So, if you have a list of dictionaries like this:\n",
        "\n",
        "```python\n",
        "list_of_dictionaries = [\n",
        "    {\n",
        "        'name': 'John',\n",
        "        'skills': ['Python', 'JavaScript', 'HTML']\n",
        "    },\n",
        "    {\n",
        "        'name': 'Jane',\n",
        "        'skills': ['Python', 'JavaScript', 'CSS']\n",
        "    }\n",
        "]\n",
        "```\n",
        "\n",
        "The last letter of the first skill of the last dictionary would be `n`"
      ]
    },
    {
      "cell_type": "code",
      "execution_count": 7,
      "id": "53e105d2",
      "metadata": {
        "id": "53e105d2",
        "outputId": "3fc5c7a0-a389-459e-810e-ac84f37e2399",
        "colab": {
          "base_uri": "https://localhost:8080/"
        }
      },
      "outputs": [
        {
          "output_type": "stream",
          "name": "stdout",
          "text": [
            "T\n"
          ]
        }
      ],
      "source": [
        "# TODO - Now index that list of dictionaries to find the last letter of the first skill of the last dictionary.\n",
        "last_s =list_of_dictionaries[-1]['skills'][0][-1]\n",
        "print(last_s)"
      ]
    },
    {
      "cell_type": "markdown",
      "id": "6d8cd9fb",
      "metadata": {
        "id": "6d8cd9fb"
      },
      "source": [
        "#### 4. Create a list comprehension which maps that list to a list of the length of names. Assign it to a variable called `name_lengths`.\n",
        "\n",
        "So, if you have a list of dictionaries like this:\n",
        "\n",
        "```python\n",
        "list_of_dictionaries = [\n",
        "    {\n",
        "        'name': 'John',\n",
        "        'skills': ['Python', 'JavaScript', 'HTML']\n",
        "    },\n",
        "    {\n",
        "        'name': 'Mayer',\n",
        "        'skills': ['Python', 'JavaScript', 'CSS']\n",
        "    }\n",
        "]\n",
        "```\n",
        "\n",
        "The result would be `[4, 5]` (because the length of `John` is 4 and the length of `Mayer` is 5)"
      ]
    },
    {
      "cell_type": "code",
      "execution_count": null,
      "id": "d392e5ab",
      "metadata": {
        "id": "d392e5ab"
      },
      "outputs": [],
      "source": [
        "# TODO - Create a list comprehension which maps that list to a list of the length of names. Assign it to a variable called `name_lengths`.\n"
      ]
    },
    {
      "cell_type": "markdown",
      "id": "b58bf91c",
      "metadata": {
        "id": "b58bf91c"
      },
      "source": [
        "#### 5. Add that list together to get the total number of characters in all of the names\n",
        "\n",
        "So, if you have a list of dictionaries like this:\n",
        "\n",
        "```python\n",
        "list_of_dictionaries = [\n",
        "    {\n",
        "        'name': 'John',\n",
        "        'skills': ['Python', 'JavaScript', 'HTML']\n",
        "    },\n",
        "    {\n",
        "        'name': 'Mayer',\n",
        "        'skills': ['Python', 'JavaScript', 'CSS']\n",
        "    }\n",
        "]\n",
        "```\n",
        "\n",
        "The result would be `9` (because the length of `John` is 4 and the length of `Mayer` is 5, so 4 + 5 = 9)"
      ]
    },
    {
      "cell_type": "code",
      "execution_count": 15,
      "id": "4409b00d",
      "metadata": {
        "id": "4409b00d",
        "outputId": "61c357be-5321-4585-a1c3-7e5704d74da5",
        "colab": {
          "base_uri": "https://localhost:8080/"
        }
      },
      "outputs": [
        {
          "output_type": "stream",
          "name": "stdout",
          "text": [
            "4\n",
            "7\n",
            "11\n"
          ]
        }
      ],
      "source": [
        "# TODO - add the lengths together\n",
        "len_1 = len(list_of_dictionaries[0]['name'])\n",
        "print(len_1)\n",
        "len_2 = len(list_of_dictionaries[1]['name'])\n",
        "print(len_2)\n",
        "print(len_1 + len_2)"
      ]
    }
  ],
  "metadata": {
    "kernelspec": {
      "display_name": "huggingface1",
      "language": "python",
      "name": "python3"
    },
    "language_info": {
      "codemirror_mode": {
        "name": "ipython",
        "version": 3
      },
      "file_extension": ".py",
      "mimetype": "text/x-python",
      "name": "python",
      "nbconvert_exporter": "python",
      "pygments_lexer": "ipython3",
      "version": "3.10.8"
    },
    "colab": {
      "provenance": []
    }
  },
  "nbformat": 4,
  "nbformat_minor": 5
}