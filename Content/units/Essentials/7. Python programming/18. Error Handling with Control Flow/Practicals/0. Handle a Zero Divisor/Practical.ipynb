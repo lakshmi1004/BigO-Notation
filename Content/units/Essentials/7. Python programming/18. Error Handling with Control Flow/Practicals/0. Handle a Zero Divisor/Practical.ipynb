{
  "cells": [
    {
      "cell_type": "markdown",
      "metadata": {
        "id": "747rbEe5mCYC"
      },
      "source": [
        "# Handle a Zero Divisor"
      ]
    },
    {
      "cell_type": "markdown",
      "metadata": {
        "id": "_XLLJBl_mCYE"
      },
      "source": [
        "Write a function that uses a `try`-`except` block to handle a `ZeroDivisionError`. It should take in two numbers  `a` and `b` as input parameters, and return `a/b`, except where a `ZeroDivisonError` occurs, in which case it should retsurn `0`. Call it with the arguments `a=x` and `b=y` to check it."
      ]
    },
    {
      "cell_type": "code",
      "execution_count": 2,
      "metadata": {
        "id": "lCPYpqNomCYE"
      },
      "outputs": [],
      "source": [
        "x = 10\n",
        "y = 0\n",
        "\n",
        "# TODO: Create a divide function that uses a try-except block to return a 0 in case of a ZeroDivisionError\n",
        "def divide(x,y):\n",
        "  try: x / y == 0\n",
        "  except ZeroDivisionError :\n",
        "\n",
        "    return '0'"
      ]
    },
    {
      "cell_type": "markdown",
      "metadata": {
        "id": "kQEsnlREmCYF"
      },
      "source": [
        "Now modify the function so that instead of taking in two parameters, it asks for user input to get the values of `a` and `b`. In the case of a `ZeroDivisionError` it should request the user re-enter their input"
      ]
    },
    {
      "cell_type": "code",
      "execution_count": 18,
      "metadata": {
        "id": "P4jjGsTdmCYF",
        "outputId": "a2f70d22-75d2-4ad7-f206-8f4c1d1da7de",
        "colab": {
          "base_uri": "https://localhost:8080/"
        }
      },
      "outputs": [
        {
          "name": "stdout",
          "output_type": "stream",
          "text": [
            "Enter a number:5\n",
            "Enter second number:3\n"
          ]
        },
        {
          "output_type": "execute_result",
          "data": {
            "text/plain": [
              "1.6666666666666667"
            ]
          },
          "metadata": {},
          "execution_count": 18
        }
      ],
      "source": [
        "# TODO: Create a user_input_divide function that asks for two user input for a and b, and returns a/b, handling the ZeroDivisionError by requesting new input\n",
        "\n",
        "def divide():\n",
        "  while True:\n",
        "\n",
        "      try:\n",
        "        x = float(input('Enter a number:'))\n",
        "        y = float(input('Enter second number:'))\n",
        "        return x / y\n",
        "      except ZeroDivisionError :\n",
        "\n",
        "        return  print('Error:cannot divide by zero')\n",
        "\n",
        "divide()"
      ]
    }
  ],
  "metadata": {
    "kernelspec": {
      "display_name": "content_repo",
      "language": "python",
      "name": "python3"
    },
    "language_info": {
      "codemirror_mode": {
        "name": "ipython",
        "version": 3
      },
      "file_extension": ".py",
      "mimetype": "text/x-python",
      "name": "python",
      "nbconvert_exporter": "python",
      "pygments_lexer": "ipython3",
      "version": "3.11.3"
    },
    "colab": {
      "provenance": []
    }
  },
  "nbformat": 4,
  "nbformat_minor": 0
}