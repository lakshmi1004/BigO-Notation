{
  "cells": [
    {
      "cell_type": "markdown",
      "metadata": {
        "id": "W0wJHHfdqlQ6"
      },
      "source": [
        "# Even Number Checker"
      ]
    },
    {
      "cell_type": "markdown",
      "metadata": {
        "id": "A3Bqd4ZgqlQ8"
      },
      "source": [
        "Write a custom function that:\n",
        "- Takes in an integer number as an input parameter\n",
        "- Returns `True` if the input is even\n",
        "- Raises a `ValueError` if the input is odd\n",
        "- Raises a `TypeError` if the input is not a valid integer"
      ]
    },
    {
      "cell_type": "code",
      "execution_count": 9,
      "metadata": {
        "id": "Lp5A8OAKqlQ8"
      },
      "outputs": [],
      "source": [
        "# TODO - write a function that takes in an integer as an input, returns True if it is even,\n",
        "# raises a ValueError if it is not, and a TypeError if the input is not an integer\n",
        "def is_even(n):\n",
        "    if not isinstance(n, int):\n",
        "        raise TypeError(\"Input must be an integer\")\n",
        "    if n % 2 == 0:\n",
        "        return True\n",
        "    else:\n",
        "        raise ValueError(\"Input must be even\")\n"
      ]
    },
    {
      "cell_type": "code",
      "execution_count": 8,
      "metadata": {
        "id": "rNYCz-_MqlQ9"
      },
      "outputs": [],
      "source": []
    }
  ],
  "metadata": {
    "language_info": {
      "name": "python"
    },
    "colab": {
      "provenance": []
    },
    "kernelspec": {
      "name": "python3",
      "display_name": "Python 3"
    }
  },
  "nbformat": 4,
  "nbformat_minor": 0
}