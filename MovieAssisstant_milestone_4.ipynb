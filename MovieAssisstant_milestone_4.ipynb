{
  "cells": [
    {
      "cell_type": "markdown",
      "metadata": {
        "id": "i_xLFYD8a_h3"
      },
      "source": [
        "# Movie Recommendation - Milestone 4\n"
      ]
    },
    {
      "cell_type": "markdown",
      "metadata": {
        "id": "PwHnfs0ezPsG"
      },
      "source": [
        "<details>\n",
        "  <summary>Click in any of these links to compare your solution with ours up to this point</summary>\n",
        "  <p>\n",
        "    <a href=\"https://colab.research.google.com/github/AI-Core/movie-recommendation-solutions/blob/main/solution_m1.ipynb\" target=\"_parent\">Solution for milestone 1</a>\n",
        "  </p>\n",
        "  <p>\n",
        "    <a href=\"https://colab.research.google.com/github/AI-Core/movie-recommendation-solutions/blob/main/solution_m2.ipynb\" target=\"_parent\">Solution for milestone 2</a>\n",
        "  </p>\n",
        "    <p>\n",
        "        <a href=\"https://colab.research.google.com/github/AI-Core/movie-recommendation-solutions/blob/main/solution_m3.ipynb\" target=\"_parent\">Solution for milestone 3</a>\n",
        "    </p>\n",
        "</details>"
      ]
    },
    {
      "cell_type": "code",
      "execution_count": 1,
      "metadata": {
        "id": "0g7oGEORzPsH",
        "outputId": "d918e517-f57a-4097-abf0-799f431d39a8",
        "colab": {
          "base_uri": "https://localhost:8080/"
        }
      },
      "outputs": [
        {
          "output_type": "stream",
          "name": "stdout",
          "text": [
            "  Preparing metadata (setup.py) ... \u001b[?25l\u001b[?25hdone\n",
            "  Preparing metadata (setup.py) ... \u001b[?25l\u001b[?25hdone\n",
            "  Building wheel for movie-rec-marking-aicore (setup.py) ... \u001b[?25l\u001b[?25hdone\n",
            "  Building wheel for timeout-decorator (setup.py) ... \u001b[?25l\u001b[?25hdone\n"
          ]
        }
      ],
      "source": [
        "#@title # Run the following cell to add the `movies` variable and the `get_unique_genres` and `get_movies_in_genre` functions will be available for you to use. { display-mode: \"form\" }\n",
        "#@markdown Don’t worry about what’s in this collapsed cell, you’re not expected to understand the code inside\n",
        "\n",
        "!pip install movie-rec-marking-aicore --upgrade --quiet\n",
        "!wget https://aicore-files.s3.amazonaws.com/Movie-Recommendation/movies.json --quiet\n",
        "from movie_rec_marking import test_milestone_4\n",
        "import json\n",
        "with open('movies.json', 'r') as f:\n",
        "    movies = json.load(f)\n",
        "\n",
        "def get_unique_genres():\n",
        "    genres = []\n",
        "    for movie in movies:\n",
        "        genres.append(movie[\"genre\"])\n",
        "    genres = set(genres)\n",
        "    return genres\n",
        "\n",
        "def get_movies_in_genre(genre):\n",
        "    movies_in_genre = []\n",
        "    for movie in movies:\n",
        "        if movie[\"genre\"] == genre:\n",
        "            movies_in_genre.append(movie)\n",
        "    return movies_in_genre"
      ]
    },
    {
      "cell_type": "markdown",
      "metadata": {
        "id": "MYQw48Lqa3Q4"
      },
      "source": [
        "# Task 1\n",
        "### Ask the user what genre they are interested in\n",
        "\n",
        "Before you ask a user for their input, print out all of the available options. Get this from your `get_unique_genre`s method defined earlier.\n",
        "\n",
        "Then, take a user input using the `input()` function and assign it to the variable genre_choice.\n",
        "\n",
        "Put all of this in a function called get_user_genre_choice.\n",
        "\n",
        "Open this notebook  to get started, and follow the instructions for this milestone.\n",
        "\n"
      ]
    },
    {
      "cell_type": "code",
      "execution_count": 2,
      "metadata": {
        "id": "1UpT9BAym0iW",
        "outputId": "5765c9dc-59b0-4e01-a864-6be0a5d4c18b",
        "colab": {
          "base_uri": "https://localhost:8080/"
        }
      },
      "outputs": [
        {
          "name": "stdout",
          "output_type": "stream",
          "text": [
            "Available genres:\n",
            "1. Film-Noir\n",
            "2. Drama\n",
            "3. Adventure\n",
            "4. Comedy\n",
            "5. Western\n",
            "6. Horror\n",
            "7. Biography\n",
            "8. Crime\n",
            "9. Animation\n",
            "10. Action\n",
            "11. Mystery\n",
            "enter the number corresponding to your chosen genre: 2\n"
          ]
        }
      ],
      "source": [
        "## Write your code here\n",
        "import json\n",
        "\n",
        "#Loading the movies:\n",
        "def load_movies_data():\n",
        "    # Define the file path\n",
        "    file_path = \"movies.json\"\n",
        "\n",
        "    # Open the file using a context manager\n",
        "    with open(file_path, 'r') as file:\n",
        "        # Load the data from the file\n",
        "        movies = json.load(file)\n",
        "\n",
        "    return movies\n",
        "\n",
        "#Getting unique Genre\n",
        "def get_unique_genres():\n",
        "    #Initialize movies = load_movies_data\n",
        "    movies = load_movies_data()\n",
        "    # Initialize an empty set to store unique genres\n",
        "    unique_genres = set()\n",
        "\n",
        "    # Iterate through each movie in the list\n",
        "    for movie in movies:\n",
        "        # Get the genre of the current movie\n",
        "        genre = movie.get(\"genre\")\n",
        "\n",
        "        # Add the genre to the set\n",
        "        unique_genres.add(genre)\n",
        "\n",
        "    return unique_genres\n",
        "\n",
        "# Get movies in genre passing 'movie genre' as an argument, returns movie name respective genre\n",
        "genres = get_unique_genres()\n",
        "movies = load_movies_data()\n",
        "def get_movies_in_genre(genres):\n",
        "  movies = load_movies_data()\n",
        "      # Initialize an empty list to store movies of the specified genre\n",
        "  genre_movies = []\n",
        "\n",
        "    # Iterate through each movie in the list\n",
        "  for movie in movies:\n",
        "        # Check if the genre of the current movie matches the specified genre\n",
        "      if movie.get(\"genre\") == genres:\n",
        "            # If there's a match, add the movie to the list\n",
        "          genre_movies.append(movie)\n",
        "\n",
        "  return genre_movies\n",
        "#movies_data = load_movies_data()\n",
        "\n",
        "#Get user_genre_choice as input as integre and return the same integer\n",
        "def get_user_genre_choice():\n",
        "\n",
        "\n",
        "    print(\"Available genres:\")\n",
        "    #iNDEXING THE LIST OF UNIQUE GENRE USING Enumerate function\n",
        "    for index, genre in enumerate(genres, start=1):\n",
        "        print(f\"{index}. {genre}\")\n",
        "\n",
        "    genre_choice = input(\"enter the number corresponding to your chosen genre: \")\n",
        "    movies_data = load_movies_data()\n",
        "    genre_movies = get_movies_in_genre(movies_data, genre)\n",
        "\n",
        "\n",
        "    return genre_choice\n",
        "\n",
        "genre_choice = get_user_genre_choice()"
      ]
    },
    {
      "cell_type": "code",
      "execution_count": 3,
      "metadata": {
        "id": "w2GmiRHtzPsK",
        "outputId": "0f507c9c-250f-4651-dfa2-120fe8910c6d",
        "colab": {
          "base_uri": "https://localhost:8080/"
        }
      },
      "outputs": [
        {
          "output_type": "stream",
          "name": "stdout",
          "text": [
            "Great! The \"get_user_genre_choice\" function prints the correct genre\n",
            "You can continue to the next task\n"
          ]
        }
      ],
      "source": [
        "#@title Run this cell to check your solution { display-mode: \"form\", run: \"auto\" }\n",
        "\n",
        "assert 'get_user_genre_choice' in globals(), \"You need to define a function called get_user_genre_choice\"\n",
        "task_1 = test_milestone_4.check_get_user_genre_choice(get_user_genre_choice)"
      ]
    },
    {
      "cell_type": "markdown",
      "metadata": {
        "id": "wdoGkqoGzPsK"
      },
      "source": [
        "# Task 2\n",
        "\n",
        "### Show the movies in the selected genre\n",
        "\n",
        "Write some code to show the movies in a selected genre (you don't need to define this as a function yet):\n",
        "\n",
        "Use your `get_movies_in_genre` function to get a list of movies in the genre selected.\n",
        "\n",
        "\n",
        "Print each movie within the selected genre on a new line. At the start of the line, print the integer index of the movie.\n",
        "\n",
        "\n",
        "Make sure to:\n",
        "\n",
        "- Use the built-in `enumerate` function\n",
        "- Use an f-string to format the printed text\n",
        "\n",
        "To avoid confusing users, make the indexing start from 1 rather than zero. For example, one line should look something like: `\"3: The Dark Knight\"`."
      ]
    },
    {
      "cell_type": "code",
      "execution_count": 14,
      "metadata": {
        "colab": {
          "base_uri": "https://localhost:8080/"
        },
        "id": "CcKc8UtozPsL",
        "outputId": "2a936b89-a076-47ef-d8b5-f6efcc60828d"
      },
      "outputs": [
        {
          "output_type": "stream",
          "name": "stdout",
          "text": [
            "Available genres:\n",
            "1. Film-Noir\n",
            "2. Drama\n",
            "3. Adventure\n",
            "4. Comedy\n",
            "5. Western\n",
            "6. Horror\n",
            "7. Biography\n",
            "8. Crime\n",
            "9. Animation\n",
            "10. Action\n",
            "11. Mystery\n",
            "Enter the number corresponding to your chosen genre: 8\n",
            "Movies in the Crime genre\n",
            "1. The Godfather\n",
            "2. The Godfather: Part II\n",
            "3. 12 Angry Men\n",
            "4. Pulp Fiction\n",
            "5. Seven\n",
            "6. The Silence of the Lambs\n",
            "7. City of God\n",
            "8. The Green Mile\n",
            "9. American History X\n",
            "10. The Departed\n",
            "11. The Usual Suspects\n",
            "12. Witness for the Prosecution\n",
            "13. Joker\n",
            "14. Once Upon a Time in America\n",
            "15. High and Low\n",
            "16. Reservoir Dogs\n",
            "17. M\n",
            "18. A Clockwork Orange\n",
            "19. Double Indemnity\n",
            "20. Scarface\n",
            "21. To Kill a Mockingbird\n",
            "22. Taxi Driver\n",
            "23. L.A. Confidential\n",
            "24. Casino\n",
            "25. Rashomon\n",
            "26. No Country for Old Men\n",
            "27. Dial M for Murder\n",
            "28. Fargo\n",
            "29. Prisoners\n",
            "30. On the Waterfront\n",
            "31. Memories of Murder\n",
            "32. Jai Bhim\n",
            "33. La Haine\n",
            "34. Cool Hand Luke\n",
            "35. The 400 Blows\n"
          ]
        }
      ],
      "source": [
        "## Write your code here\n",
        "\n",
        "## Write your code here\n",
        "import json\n",
        "\n",
        "#Loading the movies:\n",
        "def load_movies_data():\n",
        "    # Define the file path\n",
        "    file_path = \"movies.json\"\n",
        "\n",
        "    # Open the file using a context manager\n",
        "    with open(file_path, 'r') as file:\n",
        "        # Load the data from the file\n",
        "        movies = json.load(file)\n",
        "\n",
        "    return movies\n",
        "\n",
        "#Getting unique Genre\n",
        "def get_unique_genres(movies):\n",
        "    #Initialize movies = load_movies_data\n",
        "    movies = load_movies_data()\n",
        "    # Initialize an empty set to store unique genres\n",
        "    unique_genres = set()\n",
        "\n",
        "    # Iterate through each movie in the list\n",
        "    for movie in movies:\n",
        "        # Get the genre of the current movie\n",
        "        genre = movie.get(\"genre\")\n",
        "\n",
        "        # Add the genre to the set\n",
        "        unique_genres.add(genre)\n",
        "\n",
        "    return unique_genres\n",
        "\n",
        "# Get movies in genre passing 'movie genre' as an argument, returns movie name respective genre\n",
        "movies = load_movies_data()\n",
        "genres = get_unique_genres(movies)\n",
        "\n",
        "def get_movies_in_genre(movies,genres):\n",
        "  movies = load_movies_data()\n",
        "      # Initialize an empty list to store movies of the specified genre\n",
        "  genre_movies = []\n",
        "\n",
        "    # Iterate through each movie in the list\n",
        "  for movie in movies:\n",
        "        # Check if the genre of the current movie matches the specified genre\n",
        "      if movie.get(\"genre\") == genres:\n",
        "            # If there's a match, add the movie to the list\n",
        "          genre_movies.append(movie)\n",
        "\n",
        "  return genre_movies\n",
        "#movies_data = load_movies_data()\n",
        "\n",
        "#Get user_genre_choice as input as integre and return the same integer\n",
        "def get_user_genre_choice():\n",
        "    movies = load_movies_data()\n",
        "    unique_genres = get_unique_genres(movies)\n",
        "\n",
        "    print(\"Available genres:\")\n",
        "    #iNDEXING THE LIST OF UNIQUE GENRE USING Enumerate function\n",
        "    for index, genre in enumerate(genres, start=1):\n",
        "        print(f\"{index}. {genre}\")\n",
        "\n",
        "    genre_choice = input(\"Enter the number corresponding to your chosen genre: \")\n",
        "    try:\n",
        "        genre_choice = int(genre_choice)\n",
        "        if 1 <= genre_choice <= len(unique_genres):\n",
        "          chosen_genre = list(unique_genres)[genre_choice - 1]\n",
        "          genre_movies = get_movies_in_genre(movies, chosen_genre)\n",
        "\n",
        "          print(f\"Movies in the {chosen_genre} genre\")\n",
        "          #iNDEXING THE LIST OF movies from the UNIQUE GENRE USING Enumerate function\n",
        "          for index, movie in enumerate(genre_movies, start=1):\n",
        "              print(f\"{index}. {movie['title']}\")\n",
        "        else:\n",
        "           print(\"Invalid genre choice.\")\n",
        "    except ValueError:\n",
        "      print(\"Invalid input. Please enter a number.\")\n",
        "\n",
        "\n",
        "get_user_genre_choice()"
      ]
    },
    {
      "cell_type": "code",
      "execution_count": 16,
      "metadata": {
        "id": "10hXsAEtzPsL",
        "outputId": "01dac59f-9b3b-4344-bc78-a8fb49faadfd",
        "colab": {
          "base_uri": "https://localhost:8080/"
        }
      },
      "outputs": [
        {
          "output_type": "stream",
          "name": "stdout",
          "text": [
            "Great! The \"get_movies_in_genre\" function returns the correct movies\n",
            "You can continue to the next task\n"
          ]
        }
      ],
      "source": [
        "#@title Enter your solution here { display-mode: \"form\", run: \"auto\" }\n",
        "#@markdown For Action, which is the movie corresponding to index 12?\n",
        "first_movie = \"Gladiator\" #@param [\"The Dark Knight\", \"Leon\", \"Harakiri\", \"Gladiator\", \"Pirates of the Caribbean: The Curse of the Black Pearl\"] {allow-input: true}\n",
        "#@markdown For Drama, which is the movie corresponding to index 7?\n",
        "second_movie = \"Parasite\" #@param [\"The Help\", \"The Shawshank Redemption\", \"The Prestige\", \"Parasite\", \"Saving Private Ryan\"] {allow-input: true}\n",
        "\n",
        "#@markdown For Crime, which is the movie corresponding to index 26?\n",
        "third_movie = \"No Country for Old Men\" #@param [\"Rashomon\", \"Reservoir Dogs\", \"The Godfather\", \"No Country for Old Men\", \"Dial M for Murder\"] {allow-input: true}\n",
        "task_2 = test_milestone_4.check_get_movies_in_genre(first_movie, second_movie, third_movie, task_1)"
      ]
    },
    {
      "cell_type": "markdown",
      "metadata": {
        "id": "mmfSSZ0BzPsL"
      },
      "source": [
        "# Task 3\n",
        "\n",
        "### Select and display the details of a movie\n",
        "\n",
        "Define a new function called `get_movie_by_index`. It should first print out all the movies in the genre selected.\n",
        "\n",
        "Then, it should ask the user to select a movie by entering the index of the movie. Assign this to a variable named `selected_movie_index`.\n",
        "\n",
        "\n",
        "HINT: Be careful of what data type is returned from the `input()` function.\n",
        "\n",
        "Print the key-value pairs of the selected movie's dictionary each on a new line.\n",
        "\n",
        "On each line, print the key and the value, separated by a comma.\n",
        "\n",
        "\n",
        "Make sure to use the `.items()` method of the dictionary.\n",
        "\n",
        "\n",
        "Your program should end after this."
      ]
    },
    {
      "cell_type": "code",
      "execution_count": 40,
      "metadata": {
        "colab": {
          "base_uri": "https://localhost:8080/"
        },
        "id": "yvJ-QPDhzPsM",
        "outputId": "d16ff18a-7a0e-4bf0-da30-a0c70bd1f7d3"
      },
      "outputs": [
        {
          "output_type": "stream",
          "name": "stdout",
          "text": [
            "Movies in the Comedy genre:\n",
            "1. Life Is Beautiful\n",
            "2. Modern Times\n",
            "3. City Lights\n",
            "4. The Great Dictator\n",
            "5. Dr. Strangelove or: How I Learned to Stop Worrying and Love the Bomb\n",
            "6. Singin' in the Rain\n",
            "7. 3 Idiots\n",
            "8. Amélie\n",
            "9. The Apartment\n",
            "10. The Sting\n",
            "11. Snatch\n",
            "12. The Kid\n",
            "13. Some Like It Hot\n",
            "14. The Truman Show\n",
            "15. Three Billboards Outside Ebbing, Missouri\n",
            "16. Mr. Smith Goes to Washington\n",
            "17. Wild Tales\n",
            "18. The Big Lebowski\n",
            "19. Dead Poets Society\n",
            "20. Groundhog Day\n",
            "21. To Be or Not to Be\n",
            "22. It Happened One Night\n",
            "23. Life of Brian\n",
            "Please enter the index of the movie you'd like to select: 4\n",
            "Selected Movie:\n",
            "title: The Great Dictator\n",
            "description: Dictator Adenoid Hynkel tries to expand his empire while a poor Jewish barber tries to avoid persecution from Hynkel's regime.\n",
            "genre: Comedy\n",
            "image_url: https://m.media-amazon.com/images/M/MV5BMmExYWJjNTktNGUyZS00ODhmLTkxYzAtNWIzOGEyMGNiMmUwXkEyXkFqcGdeQXVyNjU0OTQ0OTY@._V1_UY67_CR0,0,45,67_AL_.jpg\n",
            "link: https://imdb.com/title/tt0032553/?pf_rd_m=A2FGELUUNOQJNL&pf_rd_p=1a264172-ae11-42e4-8ef7-7fed1973bb8f&pf_rd_r=VZEYAR8ZVPNKZ9V7MV87&pf_rd_s=center-1&pf_rd_t=15506&pf_rd_i=top&ref_=chttp_tt_62\n"
          ]
        }
      ],
      "source": [
        "## Write your code here\n",
        "## Write your code here\n",
        "\n",
        "## Write your code here\n",
        "import json\n",
        "\n",
        "#Loading the movies:\n",
        "def load_movies_data():\n",
        "    # Define the file path\n",
        "    file_path = \"movies.json\"\n",
        "\n",
        "    # Open the file using a context manager\n",
        "    with open(file_path, 'r') as file:\n",
        "        # Load the data from the file\n",
        "        movies = json.load(file)\n",
        "\n",
        "    return movies\n",
        "\n",
        "#Getting unique Genre:\n",
        "def get_unique_genres(movies):\n",
        "    #Initialize movies = load_movies_data\n",
        "    movies = load_movies_data()\n",
        "    # Initialize an empty set to store unique genres\n",
        "    unique_genres = set()\n",
        "\n",
        "    # Iterate through each movie in the list\n",
        "    for movie in movies:\n",
        "        # Get the genre of the current movie\n",
        "        genre = movie.get(\"genre\")\n",
        "\n",
        "        # Add the genre to the set\n",
        "        unique_genres.add(genre)\n",
        "\n",
        "    return unique_genres\n",
        "\n",
        "# Get movies in genre passing 'movie genre' as an argument, returns movie name respective genre:\n",
        "#movies = load_movies_data()\n",
        "genres = get_unique_genres(movies)\n",
        "\n",
        "def get_movies_in_genre(movies,genres):\n",
        "  movies = load_movies_data()\n",
        "\n",
        "      # Initialize an empty list to store movies of the specified genre\n",
        "  genre_movies = []\n",
        "\n",
        "    # Iterate through each movie in the list\n",
        "  for movie in movies:\n",
        "        # Check if the genre of the current movie matches the specified genre\n",
        "      if movie.get(\"genre\") == genres:\n",
        "            # If there's a match, add the movie to the list\n",
        "          genre_movies.append(movie)\n",
        "\n",
        "  return genre_movies\n",
        "#movies_data = load_movies_data()\n",
        "\n",
        "#Get user_genre_choice as input as integre and return the same integer\n",
        "def get_user_genre_choice():\n",
        "    movies = load_movies_data()\n",
        "    unique_genres = get_unique_genres(movies)\n",
        "\n",
        "    print(\"Available genres:\")\n",
        "    #iNDEXING THE LIST OF UNIQUE GENRE USING Enumerate function\n",
        "    for index, genre in enumerate(genres, start=1):\n",
        "        print(f\"{index}. {genre}\")\n",
        "\n",
        "    genre_choice = input(\"Enter the number corresponding to your chosen genre: \")\n",
        "    try:\n",
        "        genre_choice = int(genre_choice)\n",
        "        if 1 <= genre_choice <= len(unique_genres):\n",
        "          chosen_genre = list(unique_genres)[genre_choice - 1]\n",
        "          genre_movies = get_movies_in_genre(movies, chosen_genre)\n",
        "\n",
        "          print(f\"Movies in the {chosen_genre} genre\")\n",
        "          #iNDEXING THE LIST OF movies from the UNIQUE GENRE USING Enumerate function\n",
        "          for index, movie in enumerate(genre_movies, start=1):\n",
        "              print(f\"{index}. {movie['title']}\")\n",
        "        else:\n",
        "           print(\"Invalid genre choice.\")\n",
        "    except ValueError:\n",
        "      print(\"Invalid input. Please enter a number.\")\n",
        "\n",
        "def get_movie_by_index(genres):\n",
        "  movies = load_movies_data()\n",
        "  unique_genres = get_unique_genres(movies)\n",
        "  genre_movies = get_movies_in_genre(movies,genres)\n",
        "  if not genre_movies:\n",
        "     print(f\"No movies found in the {genres} genre.\")\n",
        "     return\n",
        "\n",
        "  print(f\"Movies in the {genres} genre:\")\n",
        "  for index, movie in enumerate(genre_movies, start=1):\n",
        "    print(f\"{index}. {movie['title']}\")\n",
        "\n",
        "  selected_movie_index = input(\"Please enter the index of the movie you'd like to select: \")\n",
        "\n",
        "  try:\n",
        "            selected_movie_index = int(selected_movie_index)\n",
        "            if 1 <= selected_movie_index <= len(genre_movies):\n",
        "                selected_movie = genre_movies[selected_movie_index - 1]\n",
        "                print(f\"Selected Movie:\")\n",
        "                for key, value in selected_movie.items():\n",
        "                    print(f\"{key}: {value}\")\n",
        "            else:\n",
        "                print(\"Invalid movie index.\")\n",
        "  except ValueError:\n",
        "            print(\"Invalid input. Please enter a number.\")\n",
        "\n",
        "\n",
        "#get_movies_in_genre()\n",
        "get_movie_by_index('Comedy')"
      ]
    },
    {
      "cell_type": "code",
      "execution_count": null,
      "metadata": {
        "id": "Dvu77HZszPsM"
      },
      "outputs": [],
      "source": [
        "#@title Run this cell to check your solution { display-mode: \"form\", run: \"auto\" }\n",
        "\n",
        "assert 'get_movie_by_index' in globals(), \"You need to define a function called get_movie_by_index\"\n",
        "task_3 = test_milestone_4.check_get_movie_by_index(get_movie_by_index, task_2)"
      ]
    }
  ],
  "metadata": {
    "colab": {
      "provenance": []
    },
    "kernelspec": {
      "display_name": "Python 3.9.5 ('base')",
      "language": "python",
      "name": "python3"
    },
    "language_info": {
      "codemirror_mode": {
        "name": "ipython",
        "version": 3
      },
      "file_extension": ".py",
      "mimetype": "text/x-python",
      "name": "python",
      "nbconvert_exporter": "python",
      "pygments_lexer": "ipython3",
      "version": "3.9.5 (default, Jun  4 2021, 12:28:51) \n[GCC 7.5.0]"
    },
    "orig_nbformat": 4,
    "vscode": {
      "interpreter": {
        "hash": "ce99af5845ff7f417c6fe57e3883abe41597db90e3f493c4f9da5159bbc46102"
      }
    }
  },
  "nbformat": 4,
  "nbformat_minor": 0
}